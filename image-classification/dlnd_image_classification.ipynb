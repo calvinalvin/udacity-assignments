{
 "cells": [
  {
   "cell_type": "markdown",
   "metadata": {
    "collapsed": true
   },
   "source": [
    "# Image Classification\n",
    "In this project, you'll classify images from the [CIFAR-10 dataset](https://www.cs.toronto.edu/~kriz/cifar.html).  The dataset consists of airplanes, dogs, cats, and other objects. You'll preprocess the images, then train a convolutional neural network on all the samples. The images need to be normalized and the labels need to be one-hot encoded.  You'll get to apply what you learned and build a convolutional, max pooling, dropout, and fully connected layers.  At the end, you'll get to see your neural network's predictions on the sample images.\n",
    "## Get the Data\n",
    "Run the following cell to download the [CIFAR-10 dataset for python](https://www.cs.toronto.edu/~kriz/cifar-10-python.tar.gz)."
   ]
  },
  {
   "cell_type": "code",
   "execution_count": 205,
   "metadata": {},
   "outputs": [
    {
     "name": "stdout",
     "output_type": "stream",
     "text": [
      "All files found!\n"
     ]
    }
   ],
   "source": [
    "\"\"\"\n",
    "DON'T MODIFY ANYTHING IN THIS CELL THAT IS BELOW THIS LINE\n",
    "\"\"\"\n",
    "from urllib.request import urlretrieve\n",
    "from os.path import isfile, isdir\n",
    "from tqdm import tqdm\n",
    "import problem_unittests as tests\n",
    "import tarfile\n",
    "from sklearn.preprocessing import LabelBinarizer\n",
    "label_binarizer = LabelBinarizer()\n",
    "label_binarizer.fit(range(10))\n",
    "\n",
    "cifar10_dataset_folder_path = 'cifar-10-batches-py'\n",
    "\n",
    "# Use Floyd's cifar-10 dataset if present\n",
    "floyd_cifar10_location = '/input/cifar-10/python.tar.gz'\n",
    "if isfile(floyd_cifar10_location):\n",
    "    tar_gz_path = floyd_cifar10_location\n",
    "else:\n",
    "    tar_gz_path = 'cifar-10-python.tar.gz'\n",
    "\n",
    "class DLProgress(tqdm):\n",
    "    last_block = 0\n",
    "\n",
    "    def hook(self, block_num=1, block_size=1, total_size=None):\n",
    "        self.total = total_size\n",
    "        self.update((block_num - self.last_block) * block_size)\n",
    "        self.last_block = block_num\n",
    "\n",
    "if not isfile(tar_gz_path):\n",
    "    with DLProgress(unit='B', unit_scale=True, miniters=1, desc='CIFAR-10 Dataset') as pbar:\n",
    "        urlretrieve(\n",
    "            'https://www.cs.toronto.edu/~kriz/cifar-10-python.tar.gz',\n",
    "            tar_gz_path,\n",
    "            pbar.hook)\n",
    "\n",
    "if not isdir(cifar10_dataset_folder_path):\n",
    "    with tarfile.open(tar_gz_path) as tar:\n",
    "        tar.extractall()\n",
    "        tar.close()\n",
    "\n",
    "\n",
    "tests.test_folder_path(cifar10_dataset_folder_path)"
   ]
  },
  {
   "cell_type": "markdown",
   "metadata": {},
   "source": [
    "## Explore the Data\n",
    "The dataset is broken into batches to prevent your machine from running out of memory.  The CIFAR-10 dataset consists of 5 batches, named `data_batch_1`, `data_batch_2`, etc.. Each batch contains the labels and images that are one of the following:\n",
    "* airplane\n",
    "* automobile\n",
    "* bird\n",
    "* cat\n",
    "* deer\n",
    "* dog\n",
    "* frog\n",
    "* horse\n",
    "* ship\n",
    "* truck\n",
    "\n",
    "Understanding a dataset is part of making predictions on the data.  Play around with the code cell below by changing the `batch_id` and `sample_id`. The `batch_id` is the id for a batch (1-5). The `sample_id` is the id for a image and label pair in the batch.\n",
    "\n",
    "Ask yourself \"What are all possible labels?\", \"What is the range of values for the image data?\", \"Are the labels in order or random?\".  Answers to questions like these will help you preprocess the data and end up with better predictions."
   ]
  },
  {
   "cell_type": "code",
   "execution_count": 142,
   "metadata": {},
   "outputs": [
    {
     "name": "stdout",
     "output_type": "stream",
     "text": [
      "\n",
      "Stats of batch 1:\n",
      "Samples: 10000\n",
      "Label Counts: {0: 1005, 1: 974, 2: 1032, 3: 1016, 4: 999, 5: 937, 6: 1030, 7: 1001, 8: 1025, 9: 981}\n",
      "First 20 Labels: [6, 9, 9, 4, 1, 1, 2, 7, 8, 3, 4, 7, 7, 2, 9, 9, 9, 3, 2, 6]\n",
      "\n",
      "Example of Image 5:\n",
      "Image - Min Value: 0 Max Value: 252\n",
      "Image - Shape: (32, 32, 3)\n",
      "Label - Label Id: 1 Name: automobile\n"
     ]
    },
    {
     "data": {
      "image/png": "[encoded data removed]",
      "text/plain": [
       "<matplotlib.figure.Figure at 0x131d30710>"
      ]
     },
     "metadata": {
      "image/png": {
       "height": 250,
       "width": 253
      }
     },
     "output_type": "display_data"
    }
   ],
   "source": [
    "%matplotlib inline\n",
    "%config InlineBackend.figure_format = 'retina'\n",
    "\n",
    "import helper\n",
    "import numpy as np\n",
    "\n",
    "# Explore the dataset\n",
    "batch_id = 1\n",
    "sample_id = 5\n",
    "helper.display_stats(cifar10_dataset_folder_path, batch_id, sample_id)"
   ]
  },
  {
   "cell_type": "markdown",
   "metadata": {},
   "source": [
    "## Implement Preprocess Functions\n",
    "### Normalize\n",
    "In the cell below, implement the `normalize` function to take in image data, `x`, and return it as a normalized Numpy array. The values should be in the range of 0 to 1, inclusive.  The return object should be the same shape as `x`."
   ]
  },
  {
   "cell_type": "code",
   "execution_count": 206,
   "metadata": {},
   "outputs": [
    {
     "name": "stdout",
     "output_type": "stream",
     "text": [
      "Tests Passed\n"
     ]
    }
   ],
   "source": [
    "def normalize(x):\n",
    "    \"\"\"\n",
    "    Normalize a list of sample image data in the range of 0 to 1\n",
    "    : x: List of image data.  The image shape is (32, 32, 3)\n",
    "    : return: Numpy array of normalize data\n",
    "    \"\"\"\n",
    "    # TODO: Implement Function\n",
    "    return x/255.0\n",
    "\n",
    "\n",
    "\"\"\"\n",
    "DON'T MODIFY ANYTHING IN THIS CELL THAT IS BELOW THIS LINE\n",
    "\"\"\"\n",
    "tests.test_normalize(normalize)"
   ]
  },
  {
   "cell_type": "markdown",
   "metadata": {},
   "source": [
    "### One-hot encode\n",
    "Just like the previous code cell, you'll be implementing a function for preprocessing.  This time, you'll implement the `one_hot_encode` function. The input, `x`, are a list of labels.  Implement the function to return the list of labels as One-Hot encoded Numpy array.  The possible values for labels are 0 to 9. The one-hot encoding function should return the same encoding for each value between each call to `one_hot_encode`.  Make sure to save the map of encodings outside the function.\n",
    "\n",
    "Hint: Don't reinvent the wheel."
   ]
  },
  {
   "cell_type": "code",
   "execution_count": 207,
   "metadata": {},
   "outputs": [
    {
     "name": "stdout",
     "output_type": "stream",
     "text": [
      "Tests Passed\n"
     ]
    }
   ],
   "source": [
    "def one_hot_encode(x):\n",
    "    \"\"\"\n",
    "    One hot encode a list of sample labels. Return a one-hot encoded vector for each label.\n",
    "    : x: List of sample Labels\n",
    "    : return: Numpy array of one-hot encoded labels\n",
    "    \"\"\"\n",
    "    # TODO: Implement Function\n",
    "    return label_binarizer.transform(x)\n",
    "\n",
    "\n",
    "\"\"\"\n",
    "DON'T MODIFY ANYTHING IN THIS CELL THAT IS BELOW THIS LINE\n",
    "\"\"\"\n",
    "tests.test_one_hot_encode(one_hot_encode)"
   ]
  },
  {
   "cell_type": "markdown",
   "metadata": {},
   "source": [
    "### Randomize Data\n",
    "As you saw from exploring the data above, the order of the samples are randomized.  It doesn't hurt to randomize it again, but you don't need to for this dataset."
   ]
  },
  {
   "cell_type": "markdown",
   "metadata": {},
   "source": [
    "## Preprocess all the data and save it\n",
    "Running the code cell below will preprocess all the CIFAR-10 data and save it to file. The code below also uses 10% of the training data for validation."
   ]
  },
  {
   "cell_type": "code",
   "execution_count": 145,
   "metadata": {},
   "outputs": [],
   "source": [
    "\"\"\"\n",
    "DON'T MODIFY ANYTHING IN THIS CELL\n",
    "\"\"\"\n",
    "# Preprocess Training, Validation, and Testing Data\n",
    "helper.preprocess_and_save_data(cifar10_dataset_folder_path, normalize, one_hot_encode)"
   ]
  },
  {
   "cell_type": "markdown",
   "metadata": {},
   "source": [
    "# Check Point\n",
    "This is your first checkpoint.  If you ever decide to come back to this notebook or have to restart the notebook, you can start from here.  The preprocessed data has been saved to disk."
   ]
  },
  {
   "cell_type": "code",
   "execution_count": 146,
   "metadata": {
    "collapsed": true
   },
   "outputs": [],
   "source": [
    "\"\"\"\n",
    "DON'T MODIFY ANYTHING IN THIS CELL\n",
    "\"\"\"\n",
    "import pickle\n",
    "import problem_unittests as tests\n",
    "import helper\n",
    "\n",
    "# Load the Preprocessed Validation data\n",
    "valid_features, valid_labels = pickle.load(open('preprocess_validation.p', mode='rb'))"
   ]
  },
  {
   "cell_type": "markdown",
   "metadata": {},
   "source": [
    "## Build the network\n",
    "For the neural network, you'll build each layer into a function.  Most of the code you've seen has been outside of functions. To test your code more thoroughly, we require that you put each layer in a function.  This allows us to give you better feedback and test for simple mistakes using our unittests before you submit your project.\n",
    "\n",
    ">**Note:** If you're finding it hard to dedicate enough time for this course each week, we've provided a small shortcut to this part of the project. In the next couple of problems, you'll have the option to use classes from the [TensorFlow Layers](https://www.tensorflow.org/api_docs/python/tf/layers) or [TensorFlow Layers (contrib)](https://www.tensorflow.org/api_guides/python/contrib.layers) packages to build each layer, except the layers you build in the \"Convolutional and Max Pooling Layer\" section.  TF Layers is similar to Keras's and TFLearn's abstraction to layers, so it's easy to pickup.\n",
    "\n",
    ">However, if you would like to get the most out of this course, try to solve all the problems _without_ using anything from the TF Layers packages. You **can** still use classes from other packages that happen to have the same name as ones you find in TF Layers! For example, instead of using the TF Layers version of the `conv2d` class, [tf.layers.conv2d](https://www.tensorflow.org/api_docs/python/tf/layers/conv2d), you would want to use the TF Neural Network version of `conv2d`, [tf.nn.conv2d](https://www.tensorflow.org/api_docs/python/tf/nn/conv2d). \n",
    "\n",
    "Let's begin!\n",
    "\n",
    "### Input\n",
    "The neural network needs to read the image data, one-hot encoded labels, and dropout keep probability. Implement the following functions\n",
    "* Implement `neural_net_image_input`\n",
    " * Return a [TF Placeholder](https://www.tensorflow.org/api_docs/python/tf/placeholder)\n",
    " * Set the shape using `image_shape` with batch size set to `None`.\n",
    " * Name the TensorFlow placeholder \"x\" using the TensorFlow `name` parameter in the [TF Placeholder](https://www.tensorflow.org/api_docs/python/tf/placeholder).\n",
    "* Implement `neural_net_label_input`\n",
    " * Return a [TF Placeholder](https://www.tensorflow.org/api_docs/python/tf/placeholder)\n",
    " * Set the shape using `n_classes` with batch size set to `None`.\n",
    " * Name the TensorFlow placeholder \"y\" using the TensorFlow `name` parameter in the [TF Placeholder](https://www.tensorflow.org/api_docs/python/tf/placeholder).\n",
    "* Implement `neural_net_keep_prob_input`\n",
    " * Return a [TF Placeholder](https://www.tensorflow.org/api_docs/python/tf/placeholder) for dropout keep probability.\n",
    " * Name the TensorFlow placeholder \"keep_prob\" using the TensorFlow `name` parameter in the [TF Placeholder](https://www.tensorflow.org/api_docs/python/tf/placeholder).\n",
    "\n",
    "These names will be used at the end of the project to load your saved model.\n",
    "\n",
    "Note: `None` for shapes in TensorFlow allow for a dynamic size."
   ]
  },
  {
   "cell_type": "code",
   "execution_count": 147,
   "metadata": {},
   "outputs": [
    {
     "name": "stdout",
     "output_type": "stream",
     "text": [
      "Image Input Tests Passed.\n",
      "Label Input Tests Passed.\n",
      "Keep Prob Tests Passed.\n"
     ]
    }
   ],
   "source": [
    "import tensorflow as tf\n",
    "\n",
    "def neural_net_image_input(image_shape):\n",
    "    \"\"\"\n",
    "    Return a Tensor for a batch of image input\n",
    "    : image_shape: Shape of the images\n",
    "    : return: Tensor for image input.\n",
    "    \"\"\"\n",
    "    # TODO: Implement Function\n",
    "    return tf.placeholder(tf.float32, shape=(None, image_shape[0], image_shape[1], image_shape[2]), name=\"x\")\n",
    "\n",
    "\n",
    "def neural_net_label_input(n_classes):\n",
    "    \"\"\"\n",
    "    Return a Tensor for a batch of label input\n",
    "    : n_classes: Number of classes\n",
    "    : return: Tensor for label input.\n",
    "    \"\"\"\n",
    "    # TODO: Implement Function\n",
    "    return tf.placeholder(tf.float32, shape=(None, n_classes), name=\"y\")\n",
    "\n",
    "\n",
    "def neural_net_keep_prob_input():\n",
    "    \"\"\"\n",
    "    Return a Tensor for keep probability\n",
    "    : return: Tensor for keep probability.\n",
    "    \"\"\"\n",
    "    # TODO: Implement Function\n",
    "    return tf.placeholder(tf.float32, name=\"keep_prob\")\n",
    "\n",
    "\n",
    "\"\"\"\n",
    "DON'T MODIFY ANYTHING IN THIS CELL THAT IS BELOW THIS LINE\n",
    "\"\"\"\n",
    "tf.reset_default_graph()\n",
    "tests.test_nn_image_inputs(neural_net_image_input)\n",
    "tests.test_nn_label_inputs(neural_net_label_input)\n",
    "tests.test_nn_keep_prob_inputs(neural_net_keep_prob_input)"
   ]
  },
  {
   "cell_type": "markdown",
   "metadata": {},
   "source": [
    "### Convolution and Max Pooling Layer\n",
    "Convolution layers have a lot of success with images. For this code cell, you should implement the function `conv2d_maxpool` to apply convolution then max pooling:\n",
    "* Create the weight and bias using `conv_ksize`, `conv_num_outputs` and the shape of `x_tensor`.\n",
    "* Apply a convolution to `x_tensor` using weight and `conv_strides`.\n",
    " * We recommend you use same padding, but you're welcome to use any padding.\n",
    "* Add bias\n",
    "* Add a nonlinear activation to the convolution.\n",
    "* Apply Max Pooling using `pool_ksize` and `pool_strides`.\n",
    " * We recommend you use same padding, but you're welcome to use any padding.\n",
    "\n",
    "**Note:** You **can't** use [TensorFlow Layers](https://www.tensorflow.org/api_docs/python/tf/layers) or [TensorFlow Layers (contrib)](https://www.tensorflow.org/api_guides/python/contrib.layers) for **this** layer, but you can still use TensorFlow's [Neural Network](https://www.tensorflow.org/api_docs/python/tf/nn) package. You may still use the shortcut option for all the **other** layers."
   ]
  },
  {
   "cell_type": "code",
   "execution_count": 208,
   "metadata": {},
   "outputs": [
    {
     "name": "stdout",
     "output_type": "stream",
     "text": [
      "<tf.Variable 'Variable_1:0' shape=(2, 2, 5, 10) dtype=float32_ref>\n",
      "Tensor(\"Conv2D_1:0\", shape=(?, 8, 8, 10), dtype=float32)\n",
      "Tensor(\"Relu_1:0\", shape=(?, 8, 8, 10), dtype=float32)\n",
      "Tensor(\"MaxPool_1:0\", shape=(?, 4, 4, 10), dtype=float32)\n",
      "Tests Passed\n"
     ]
    }
   ],
   "source": [
    "def conv2d_maxpool(x_tensor, conv_num_outputs, conv_ksize, conv_strides, pool_ksize, pool_strides):\n",
    "    \"\"\"\n",
    "    Apply convolution then max pooling to x_tensor\n",
    "    :param x_tensor: TensorFlow Tensor\n",
    "    :param conv_num_outputs: Number of outputs for the convolutional layer\n",
    "    :param conv_ksize: kernal size 2-D Tuple for the convolutional layer\n",
    "    :param conv_strides: Stride 2-D Tuple for convolution\n",
    "    :param pool_ksize: kernal size 2-D Tuple for pool\n",
    "    :param pool_strides: Stride 2-D Tuple for pool\n",
    "    : return: A tensor that represents convolution and max pooling of x_tensor\n",
    "    \"\"\"\n",
    "    # TODO: Implement Function\n",
    "    weights = tf.Variable(tf.truncated_normal(\n",
    "                        shape=(conv_ksize[0], conv_ksize[1], x_tensor.shape[3].value, conv_num_outputs), \n",
    "                        stddev=0.1,\n",
    "                        mean=0))\n",
    "    \n",
    "    bias = tf.Variable(tf.zeros(conv_num_outputs))\n",
    "\n",
    "    conv_layer = tf.nn.conv2d(x_tensor, \n",
    "                              weights, \n",
    "                              (1, conv_strides[0], conv_strides[1], 1), \n",
    "                              padding='SAME')\n",
    "\n",
    "    # add bias\n",
    "    conv_layer = tf.nn.bias_add(conv_layer, bias)\n",
    "\n",
    "    # Apply activation function\n",
    "    conv_layer = tf.nn.relu(conv_layer)\n",
    "\n",
    "    # Apply Max Pooling\n",
    "    conv_layer = tf.nn.max_pool(conv_layer, \n",
    "                    (1, pool_ksize[0], pool_ksize[1], 1), \n",
    "                    (1, pool_strides[0], pool_strides[1], 1),\n",
    "                    padding='SAME')\n",
    "\n",
    "    return conv_layer \n",
    "\n",
    "\n",
    "\"\"\"\n",
    "DON'T MODIFY ANYTHING IN THIS CELL THAT IS BELOW THIS LINE\n",
    "\"\"\"\n",
    "tests.test_con_pool(conv2d_maxpool)"
   ]
  },
  {
   "cell_type": "markdown",
   "metadata": {},
   "source": [
    "### Flatten Layer\n",
    "Implement the `flatten` function to change the dimension of `x_tensor` from a 4-D tensor to a 2-D tensor.  The output should be the shape (*Batch Size*, *Flattened Image Size*). Shortcut option: you can use classes from the [TensorFlow Layers](https://www.tensorflow.org/api_docs/python/tf/layers) or [TensorFlow Layers (contrib)](https://www.tensorflow.org/api_guides/python/contrib.layers) packages for this layer. For more of a challenge, only use other TensorFlow packages."
   ]
  },
  {
   "cell_type": "code",
   "execution_count": 195,
   "metadata": {},
   "outputs": [
    {
     "name": "stdout",
     "output_type": "stream",
     "text": [
      "Tests Passed\n"
     ]
    }
   ],
   "source": [
    "def flatten(x_tensor):\n",
    "    \"\"\"\n",
    "    Flatten x_tensor to (Batch Size, Flattened Image Size)\n",
    "    : x_tensor: A tensor of size (Batch Size, ...), where ... are the image dimensions.\n",
    "    : return: A tensor of size (Batch Size, Flattened Image Size).\n",
    "    \"\"\"\n",
    "    # TODO: Implement Function\n",
    "    return tf.contrib.layers.flatten(x_tensor)\n",
    "\n",
    "\n",
    "\"\"\"\n",
    "DON'T MODIFY ANYTHING IN THIS CELL THAT IS BELOW THIS LINE\n",
    "\"\"\"\n",
    "tests.test_flatten(flatten)"
   ]
  },
  {
   "cell_type": "markdown",
   "metadata": {},
   "source": [
    "### Fully-Connected Layer\n",
    "Implement the `fully_conn` function to apply a fully connected layer to `x_tensor` with the shape (*Batch Size*, *num_outputs*). Shortcut option: you can use classes from the [TensorFlow Layers](https://www.tensorflow.org/api_docs/python/tf/layers) or [TensorFlow Layers (contrib)](https://www.tensorflow.org/api_guides/python/contrib.layers) packages for this layer. For more of a challenge, only use other TensorFlow packages."
   ]
  },
  {
   "cell_type": "code",
   "execution_count": 212,
   "metadata": {},
   "outputs": [
    {
     "name": "stdout",
     "output_type": "stream",
     "text": [
      "Tests Passed\n"
     ]
    }
   ],
   "source": [
    "def fully_conn(x_tensor, num_outputs):\n",
    "    \"\"\"\n",
    "    Apply a fully connected layer to x_tensor using weight and bias\n",
    "    : x_tensor: A 2-D tensor where the first dimension is batch size.\n",
    "    : num_outputs: The number of output that the new tensor should be.\n",
    "    : return: A 2-D tensor where the second dimension is num_outputs.\n",
    "    \"\"\"\n",
    "    # TODO: Implement Function\n",
    "    return tf.contrib.layers.fully_connected(x_tensor, num_outputs, activation_fn=tf.nn.relu)\n",
    "\n",
    "\n",
    "\"\"\"\n",
    "DON'T MODIFY ANYTHING IN THIS CELL THAT IS BELOW THIS LINE\n",
    "\"\"\"\n",
    "tests.test_fully_conn(fully_conn)"
   ]
  },
  {
   "cell_type": "markdown",
   "metadata": {},
   "source": [
    "### Output Layer\n",
    "Implement the `output` function to apply a fully connected layer to `x_tensor` with the shape (*Batch Size*, *num_outputs*). Shortcut option: you can use classes from the [TensorFlow Layers](https://www.tensorflow.org/api_docs/python/tf/layers) or [TensorFlow Layers (contrib)](https://www.tensorflow.org/api_guides/python/contrib.layers) packages for this layer. For more of a challenge, only use other TensorFlow packages.\n",
    "\n",
    "**Note:** Activation, softmax, or cross entropy should **not** be applied to this."
   ]
  },
  {
   "cell_type": "code",
   "execution_count": 213,
   "metadata": {},
   "outputs": [
    {
     "name": "stdout",
     "output_type": "stream",
     "text": [
      "Tests Passed\n"
     ]
    }
   ],
   "source": [
    "def output(x_tensor, num_outputs):\n",
    "    \"\"\"\n",
    "    Apply a output layer to x_tensor using weight and bias\n",
    "    : x_tensor: A 2-D tensor where the first dimension is batch size.\n",
    "    : num_outputs: The number of output that the new tensor should be.\n",
    "    : return: A 2-D tensor where the second dimension is num_outputs.\n",
    "    \"\"\"\n",
    "    # TODO: Implement Function\n",
    "    return tf.contrib.layers.fully_connected(x_tensor, num_outputs, activation_fn=None)\n",
    "\n",
    "\n",
    "\"\"\"\n",
    "DON'T MODIFY ANYTHING IN THIS CELL THAT IS BELOW THIS LINE\n",
    "\"\"\"\n",
    "tests.test_output(output)"
   ]
  },
  {
   "cell_type": "markdown",
   "metadata": {},
   "source": [
    "### Create Convolutional Model\n",
    "Implement the function `conv_net` to create a convolutional neural network model. The function takes in a batch of images, `x`, and outputs logits.  Use the layers you created above to create this model:\n",
    "\n",
    "* Apply 1, 2, or 3 Convolution and Max Pool layers\n",
    "* Apply a Flatten Layer\n",
    "* Apply 1, 2, or 3 Fully Connected Layers\n",
    "* Apply an Output Layer\n",
    "* Return the output\n",
    "* Apply [TensorFlow's Dropout](https://www.tensorflow.org/api_docs/python/tf/nn/dropout) to one or more layers in the model using `keep_prob`. "
   ]
  },
  {
   "cell_type": "code",
   "execution_count": 346,
   "metadata": {},
   "outputs": [
    {
     "name": "stdout",
     "output_type": "stream",
     "text": [
      "<tf.Variable 'Variable:0' shape=(4, 4, 3, 64) dtype=float32_ref>\n",
      "Tensor(\"Conv2D:0\", shape=(?, 32, 32, 64), dtype=float32)\n",
      "Tensor(\"Relu:0\", shape=(?, 32, 32, 64), dtype=float32)\n",
      "Tensor(\"MaxPool:0\", shape=(?, 16, 16, 64), dtype=float32)\n",
      "<tf.Variable 'Variable_1:0' shape=(4, 4, 64, 128) dtype=float32_ref>\n",
      "Tensor(\"Conv2D_1:0\", shape=(?, 16, 16, 128), dtype=float32)\n",
      "Tensor(\"Relu_1:0\", shape=(?, 16, 16, 128), dtype=float32)\n",
      "Tensor(\"MaxPool_1:0\", shape=(?, 8, 8, 128), dtype=float32)\n",
      "<tf.Variable 'Variable_2:0' shape=(2, 2, 128, 256) dtype=float32_ref>\n",
      "Tensor(\"Conv2D_2:0\", shape=(?, 4, 4, 256), dtype=float32)\n",
      "Tensor(\"Relu_2:0\", shape=(?, 4, 4, 256), dtype=float32)\n",
      "Tensor(\"MaxPool_2:0\", shape=(?, 2, 2, 256), dtype=float32)\n",
      "logits ----\n",
      "Tensor(\"logits:0\", shape=(?, 10), dtype=float32)\n",
      "cost ---\n",
      "Tensor(\"Mean:0\", shape=(), dtype=float32)\n",
      "name: \"Adam\"\n",
      "op: \"NoOp\"\n",
      "input: \"^Adam/update_Variable/ApplyAdam\"\n",
      "input: \"^Adam/update_Variable_1/ApplyAdam\"\n",
      "input: \"^Adam/update_Variable_2/ApplyAdam\"\n",
      "input: \"^Adam/update_fully_connected/weights/ApplyAdam\"\n",
      "input: \"^Adam/update_fully_connected/biases/ApplyAdam\"\n",
      "input: \"^Adam/update_fully_connected_1/weights/ApplyAdam\"\n",
      "input: \"^Adam/update_fully_connected_1/biases/ApplyAdam\"\n",
      "input: \"^Adam/update_fully_connected_2/weights/ApplyAdam\"\n",
      "input: \"^Adam/update_fully_connected_2/biases/ApplyAdam\"\n",
      "input: \"^Adam/Assign\"\n",
      "input: \"^Adam/Assign_1\"\n",
      "\n",
      "<tf.Variable 'Variable_3:0' shape=(4, 4, 3, 64) dtype=float32_ref>\n",
      "Tensor(\"Conv2D_3:0\", shape=(?, 32, 32, 64), dtype=float32)\n",
      "Tensor(\"Relu_3:0\", shape=(?, 32, 32, 64), dtype=float32)\n",
      "Tensor(\"MaxPool_3:0\", shape=(?, 16, 16, 64), dtype=float32)\n",
      "<tf.Variable 'Variable_4:0' shape=(4, 4, 64, 128) dtype=float32_ref>\n",
      "Tensor(\"Conv2D_4:0\", shape=(?, 16, 16, 128), dtype=float32)\n",
      "Tensor(\"Relu_4:0\", shape=(?, 16, 16, 128), dtype=float32)\n",
      "Tensor(\"MaxPool_4:0\", shape=(?, 8, 8, 128), dtype=float32)\n",
      "<tf.Variable 'Variable_5:0' shape=(2, 2, 128, 256) dtype=float32_ref>\n",
      "Tensor(\"Conv2D_5:0\", shape=(?, 4, 4, 256), dtype=float32)\n",
      "Tensor(\"Relu_5:0\", shape=(?, 4, 4, 256), dtype=float32)\n",
      "Tensor(\"MaxPool_5:0\", shape=(?, 2, 2, 256), dtype=float32)\n",
      "Neural Network Built!\n"
     ]
    }
   ],
   "source": [
    "def conv_net(x, keep_prob):\n",
    "    \"\"\"\n",
    "    Create a convolutional neural network model\n",
    "    : x: Placeholder tensor that holds image data.\n",
    "    : keep_prob: Placeholder tensor that hold dropout keep probability.\n",
    "    : return: Tensor that represents logits\n",
    "    \"\"\"\n",
    "    # TODO: Apply 1, 2, or 3 Convolution and Max Pool layers\n",
    "    #    Play around with different number of outputs, kernel size and stride\n",
    "    # Function Definition from Above:\n",
    "    \n",
    "    # conv2d_maxpool(x_tensor, conv_num_outputs, conv_ksize, conv_strides, pool_ksize, pool_strides)\n",
    "    conv = conv2d_maxpool(x, 64, (4,4), (1,1), (2,2), (2,2))\n",
    "    conv = tf.nn.dropout(conv, keep_prob)\n",
    "    conv = conv2d_maxpool(conv, 128, (4,4), (1,1), (2,2), (2,2))\n",
    "    conv = tf.nn.dropout(conv, keep_prob)\n",
    "    conv = conv2d_maxpool(conv, 256, (2,2), (2,2), (2,2), (2,2))\n",
    "    \n",
    "    #print(conv)\n",
    "    # TODO: Apply a Flatten Layer\n",
    "    # Function Definition from Above:\n",
    "    #   flatten(x_tensor)\n",
    "    conv = flatten(conv)\n",
    "    \n",
    "\n",
    "    # TODO: Apply 1, 2, or 3 Fully Connected Layers\n",
    "    #    Play around with different number of outputs\n",
    "    # Function Definition from Above:\n",
    "    #   fully_conn(x_tensor, num_outputs)\n",
    "    fc = fully_conn(conv, 512)\n",
    "    fc = tf.nn.dropout(fc, keep_prob)\n",
    "    fc = fully_conn(fc, 256)\n",
    "\n",
    "    \n",
    "    # TODO: Apply an Output Layer\n",
    "    #    Set this to the number of classes\n",
    "    # Function Definition from Above:\n",
    "    #   output(x_tensor, num_outputs)\n",
    "    result = output(fc, 10)\n",
    "    \n",
    "    # TODO: return output\n",
    "    return result\n",
    "    \n",
    "    \n",
    "\n",
    "\"\"\"\n",
    "DON'T MODIFY ANYTHING IN THIS CELL THAT IS BELOW THIS LINE\n",
    "\"\"\"\n",
    "\n",
    "##############################\n",
    "## Build the Neural Network ##\n",
    "##############################\n",
    "\n",
    "# Remove previous weights, bias, inputs, etc..\n",
    "tf.reset_default_graph()\n",
    "\n",
    "# Inputs\n",
    "x = neural_net_image_input((32, 32, 3))\n",
    "y = neural_net_label_input(10)\n",
    "keep_prob = neural_net_keep_prob_input()\n",
    "\n",
    "# Model\n",
    "logits = conv_net(x, keep_prob)\n",
    "\n",
    "# Name logits Tensor, so that is can be loaded from disk after training\n",
    "logits = tf.identity(logits, name='logits')\n",
    "\n",
    "print('logits ----')\n",
    "print(logits)\n",
    "# Loss and Optimizer\n",
    "cost = tf.reduce_mean(tf.nn.softmax_cross_entropy_with_logits(logits=logits, labels=y))\n",
    "print('cost ---')\n",
    "print(cost)\n",
    "\n",
    "optimizer = tf.train.AdamOptimizer().minimize(cost)\n",
    "print(optimizer)\n",
    "\n",
    "# Accuracy\n",
    "correct_pred = tf.equal(tf.argmax(logits, 1), tf.argmax(y, 1))\n",
    "accuracy = tf.reduce_mean(tf.cast(correct_pred, tf.float32), name='accuracy')\n",
    "\n",
    "tests.test_conv_net(conv_net)"
   ]
  },
  {
   "cell_type": "code",
   "execution_count": 334,
   "metadata": {},
   "outputs": [
    {
     "name": "stdout",
     "output_type": "stream",
     "text": [
      "Tests Passed\n"
     ]
    }
   ],
   "source": [
    "def train_neural_network(session, optimizer, keep_probability, feature_batch, label_batch):\n",
    "    \"\"\"\n",
    "    Optimize the session on a batch of images and labels\n",
    "    : session: Current TensorFlow session\n",
    "    : optimizer: TensorFlow optimizer function\n",
    "    : keep_probability: keep probability\n",
    "    : feature_batch: Batch of Numpy image data\n",
    "    : label_batch: Batch of Numpy label data\n",
    "    \"\"\"\n",
    "    session.run(optimizer, feed_dict={\n",
    "        x: feature_batch,\n",
    "        y: label_batch,\n",
    "        keep_prob: keep_probability})\n",
    "\n",
    "\n",
    "\"\"\"\n",
    "DON'T MODIFY ANYTHING IN THIS CELL THAT IS BELOW THIS LINE\n",
    "\"\"\"\n",
    "tests.test_train_nn(train_neural_network)"
   ]
  },
  {
   "cell_type": "markdown",
   "metadata": {},
   "source": [
    "### Show Stats\n",
    "Implement the function `print_stats` to print loss and validation accuracy.  Use the global variables `valid_features` and `valid_labels` to calculate validation accuracy.  Use a keep probability of `1.0` to calculate the loss and validation accuracy."
   ]
  },
  {
   "cell_type": "code",
   "execution_count": 335,
   "metadata": {},
   "outputs": [],
   "source": [
    "def print_stats(session, feature_batch, label_batch, cost, accuracy):\n",
    "    \"\"\"\n",
    "    Print information about loss and validation accuracy\n",
    "    : session: Current TensorFlow session\n",
    "    : feature_batch: Batch of Numpy image data\n",
    "    : label_batch: Batch of Numpy label data\n",
    "    : cost: TensorFlow cost function\n",
    "    : accuracy: TensorFlow accuracy function\n",
    "    \"\"\"\n",
    "    # TODO: Implement Function\n",
    "    accuracy_stats = sess.run(accuracy, feed_dict={\n",
    "        x: feature_batch,\n",
    "        y: label_batch,\n",
    "        keep_prob: 1.0})\n",
    "    \n",
    "    cost_stats = sess.run(cost, feed_dict={\n",
    "        x: feature_batch,\n",
    "        y: label_batch,\n",
    "        keep_prob: 1.0})\n",
    "    \n",
    "    print(\"Accuracy: {} Cost: {}\".format(accuracy_stats, cost_stats))"
   ]
  },
  {
   "cell_type": "markdown",
   "metadata": {},
   "source": [
    "### Hyperparameters\n",
    "Tune the following parameters:\n",
    "* Set `epochs` to the number of iterations until the network stops learning or start overfitting\n",
    "* Set `batch_size` to the highest number that your machine has memory for.  Most people set them to common sizes of memory:\n",
    " * 64\n",
    " * 128\n",
    " * 256\n",
    " * ...\n",
    "* Set `keep_probability` to the probability of keeping a node using dropout"
   ]
  },
  {
   "cell_type": "code",
   "execution_count": 374,
   "metadata": {
    "collapsed": true
   },
   "outputs": [],
   "source": [
    "# TODO: Tune Parameters\n",
    "epochs = 25\n",
    "batch_size = 256\n",
    "keep_probability = 0.5"
   ]
  },
  {
   "cell_type": "markdown",
   "metadata": {},
   "source": [
    "### Train on a Single CIFAR-10 Batch\n",
    "Instead of training the neural network on all the CIFAR-10 batches of data, let's use a single batch. This should save time while you iterate on the model to get a better accuracy.  Once the final validation accuracy is 50% or greater, run the model on all the data in the next section."
   ]
  },
  {
   "cell_type": "code",
   "execution_count": 368,
   "metadata": {},
   "outputs": [
    {
     "name": "stdout",
     "output_type": "stream",
     "text": [
      "Checking the Training on a Single Batch...\n",
      "Epoch  1, CIFAR-10 Batch 1:  Accuracy: 0.25 Cost: 2.2893307209014893\n",
      "Epoch  2, CIFAR-10 Batch 1:  Accuracy: 0.17499999701976776 Cost: 2.2320237159729004\n",
      "Epoch  3, CIFAR-10 Batch 1:  Accuracy: 0.15000000596046448 Cost: 2.188422679901123\n",
      "Epoch  4, CIFAR-10 Batch 1:  Accuracy: 0.17499999701976776 Cost: 2.151691436767578\n",
      "Epoch  5, CIFAR-10 Batch 1:  Accuracy: 0.2750000059604645 Cost: 2.0732131004333496\n",
      "Epoch  6, CIFAR-10 Batch 1:  Accuracy: 0.375 Cost: 2.0413639545440674\n",
      "Epoch  7, CIFAR-10 Batch 1:  Accuracy: 0.375 Cost: 1.9864246845245361\n",
      "Epoch  8, CIFAR-10 Batch 1:  Accuracy: 0.375 Cost: 1.913069725036621\n",
      "Epoch  9, CIFAR-10 Batch 1:  Accuracy: 0.375 Cost: 1.8780361413955688\n",
      "Epoch 10, CIFAR-10 Batch 1:  Accuracy: 0.32499998807907104 Cost: 1.8422181606292725\n",
      "Epoch 11, CIFAR-10 Batch 1:  Accuracy: 0.4000000059604645 Cost: 1.806652307510376\n",
      "Epoch 12, CIFAR-10 Batch 1:  Accuracy: 0.375 Cost: 1.6997003555297852\n",
      "Epoch 13, CIFAR-10 Batch 1:  Accuracy: 0.375 Cost: 1.6733753681182861\n",
      "Epoch 14, CIFAR-10 Batch 1:  Accuracy: 0.42500001192092896 Cost: 1.6674144268035889\n",
      "Epoch 15, CIFAR-10 Batch 1:  Accuracy: 0.42500001192092896 Cost: 1.57258939743042\n",
      "Epoch 16, CIFAR-10 Batch 1:  Accuracy: 0.42500001192092896 Cost: 1.5228278636932373\n",
      "Epoch 17, CIFAR-10 Batch 1:  Accuracy: 0.4749999940395355 Cost: 1.4649044275283813\n",
      "Epoch 18, CIFAR-10 Batch 1:  Accuracy: 0.4749999940395355 Cost: 1.407512903213501\n",
      "Epoch 19, CIFAR-10 Batch 1:  Accuracy: 0.574999988079071 Cost: 1.3754537105560303\n",
      "Epoch 20, CIFAR-10 Batch 1:  Accuracy: 0.5249999761581421 Cost: 1.3459287881851196\n",
      "Epoch 21, CIFAR-10 Batch 1:  Accuracy: 0.6000000238418579 Cost: 1.311779260635376\n",
      "Epoch 22, CIFAR-10 Batch 1:  Accuracy: 0.550000011920929 Cost: 1.2757747173309326\n",
      "Epoch 23, CIFAR-10 Batch 1:  Accuracy: 0.6000000238418579 Cost: 1.2684009075164795\n",
      "Epoch 24, CIFAR-10 Batch 1:  Accuracy: 0.675000011920929 Cost: 1.166157841682434\n",
      "Epoch 25, CIFAR-10 Batch 1:  Accuracy: 0.699999988079071 Cost: 1.0995818376541138\n",
      "Epoch 26, CIFAR-10 Batch 1:  Accuracy: 0.699999988079071 Cost: 1.1010291576385498\n",
      "Epoch 27, CIFAR-10 Batch 1:  Accuracy: 0.699999988079071 Cost: 1.0496680736541748\n",
      "Epoch 28, CIFAR-10 Batch 1:  Accuracy: 0.675000011920929 Cost: 1.0484580993652344\n",
      "Epoch 29, CIFAR-10 Batch 1:  Accuracy: 0.675000011920929 Cost: 1.0170537233352661\n",
      "Epoch 30, CIFAR-10 Batch 1:  Accuracy: 0.699999988079071 Cost: 0.9762277603149414\n",
      "Epoch 31, CIFAR-10 Batch 1:  Accuracy: 0.699999988079071 Cost: 0.9800121188163757\n",
      "Epoch 32, CIFAR-10 Batch 1:  Accuracy: 0.699999988079071 Cost: 0.9129039645195007\n",
      "Epoch 33, CIFAR-10 Batch 1:  Accuracy: 0.7250000238418579 Cost: 0.9110850095748901\n",
      "Epoch 34, CIFAR-10 Batch 1:  Accuracy: 0.6499999761581421 Cost: 0.899884819984436\n",
      "Epoch 35, CIFAR-10 Batch 1:  Accuracy: 0.699999988079071 Cost: 0.8575176000595093\n",
      "Epoch 36, CIFAR-10 Batch 1:  Accuracy: 0.7749999761581421 Cost: 0.7671118974685669\n",
      "Epoch 37, CIFAR-10 Batch 1:  Accuracy: 0.7749999761581421 Cost: 0.7904409170150757\n",
      "Epoch 38, CIFAR-10 Batch 1:  Accuracy: 0.75 Cost: 0.7246460318565369\n",
      "Epoch 39, CIFAR-10 Batch 1:  Accuracy: 0.7749999761581421 Cost: 0.7337552905082703\n",
      "Epoch 40, CIFAR-10 Batch 1:  Accuracy: 0.7749999761581421 Cost: 0.7085614800453186\n",
      "Epoch 41, CIFAR-10 Batch 1:  Accuracy: 0.800000011920929 Cost: 0.6872340440750122\n",
      "Epoch 42, CIFAR-10 Batch 1:  Accuracy: 0.800000011920929 Cost: 0.7044489979743958\n",
      "Epoch 43, CIFAR-10 Batch 1:  Accuracy: 0.8500000238418579 Cost: 0.6259799003601074\n",
      "Epoch 44, CIFAR-10 Batch 1:  Accuracy: 0.800000011920929 Cost: 0.6455178260803223\n",
      "Epoch 45, CIFAR-10 Batch 1:  Accuracy: 0.8500000238418579 Cost: 0.5652040243148804\n",
      "Epoch 46, CIFAR-10 Batch 1:  Accuracy: 0.824999988079071 Cost: 0.5657040476799011\n",
      "Epoch 47, CIFAR-10 Batch 1:  Accuracy: 0.75 Cost: 0.572409987449646\n",
      "Epoch 48, CIFAR-10 Batch 1:  Accuracy: 0.824999988079071 Cost: 0.507217526435852\n",
      "Epoch 49, CIFAR-10 Batch 1:  Accuracy: 0.824999988079071 Cost: 0.4904846251010895\n",
      "Epoch 50, CIFAR-10 Batch 1:  Accuracy: 0.875 Cost: 0.46059226989746094\n"
     ]
    }
   ],
   "source": [
    "\"\"\"\n",
    "DON'T MODIFY ANYTHING IN THIS CELL\n",
    "\"\"\"\n",
    "print('Checking the Training on a Single Batch...')\n",
    "with tf.Session() as sess:\n",
    "    # Initializing the variables\n",
    "    sess.run(tf.global_variables_initializer())\n",
    "    \n",
    "    # Training cycle\n",
    "    for epoch in range(epochs):\n",
    "        batch_i = 1\n",
    "        for batch_features, batch_labels in helper.load_preprocess_training_batch(batch_i, batch_size):\n",
    "            train_neural_network(sess, optimizer, keep_probability, batch_features, batch_labels)\n",
    "        print('Epoch {:>2}, CIFAR-10 Batch {}:  '.format(epoch + 1, batch_i), end='')\n",
    "        print_stats(sess, batch_features, batch_labels, cost, accuracy)"
   ]
  },
  {
   "cell_type": "markdown",
   "metadata": {},
   "source": [
    "### Fully Train the Model\n",
    "Now that you got a good accuracy with a single CIFAR-10 batch, try it with all five batches."
   ]
  },
  {
   "cell_type": "code",
   "execution_count": 375,
   "metadata": {},
   "outputs": [
    {
     "name": "stdout",
     "output_type": "stream",
     "text": [
      "Training...\n",
      "Epoch  1, CIFAR-10 Batch 1:  Accuracy: 0.25 Cost: 2.2929861545562744\n",
      "Epoch  1, CIFAR-10 Batch 2:  Accuracy: 0.15000000596046448 Cost: 2.266829013824463\n",
      "Epoch  1, CIFAR-10 Batch 3:  Accuracy: 0.2750000059604645 Cost: 2.0644664764404297\n",
      "Epoch  1, CIFAR-10 Batch 4:  Accuracy: 0.2750000059604645 Cost: 2.0507407188415527\n",
      "Epoch  1, CIFAR-10 Batch 5:  Accuracy: 0.25 Cost: 1.9633381366729736\n",
      "Epoch  2, CIFAR-10 Batch 1:  Accuracy: 0.4000000059604645 Cost: 1.9946616888046265\n",
      "Epoch  2, CIFAR-10 Batch 2:  Accuracy: 0.375 Cost: 1.8882516622543335\n",
      "Epoch  2, CIFAR-10 Batch 3:  Accuracy: 0.32499998807907104 Cost: 1.7984412908554077\n",
      "Epoch  2, CIFAR-10 Batch 4:  Accuracy: 0.22499999403953552 Cost: 1.7625350952148438\n",
      "Epoch  2, CIFAR-10 Batch 5:  Accuracy: 0.2750000059604645 Cost: 1.7228119373321533\n",
      "Epoch  3, CIFAR-10 Batch 1:  Accuracy: 0.375 Cost: 1.932661771774292\n",
      "Epoch  3, CIFAR-10 Batch 2:  Accuracy: 0.4749999940395355 Cost: 1.6633384227752686\n",
      "Epoch  3, CIFAR-10 Batch 3:  Accuracy: 0.4749999940395355 Cost: 1.4813514947891235\n",
      "Epoch  3, CIFAR-10 Batch 4:  Accuracy: 0.2750000059604645 Cost: 1.718257188796997\n",
      "Epoch  3, CIFAR-10 Batch 5:  Accuracy: 0.42500001192092896 Cost: 1.5556471347808838\n",
      "Epoch  4, CIFAR-10 Batch 1:  Accuracy: 0.44999998807907104 Cost: 1.6939537525177002\n",
      "Epoch  4, CIFAR-10 Batch 2:  Accuracy: 0.5249999761581421 Cost: 1.538278341293335\n",
      "Epoch  4, CIFAR-10 Batch 3:  Accuracy: 0.574999988079071 Cost: 1.3240749835968018\n",
      "Epoch  4, CIFAR-10 Batch 4:  Accuracy: 0.375 Cost: 1.5906070470809937\n",
      "Epoch  4, CIFAR-10 Batch 5:  Accuracy: 0.5 Cost: 1.4307562112808228\n",
      "Epoch  5, CIFAR-10 Batch 1:  Accuracy: 0.550000011920929 Cost: 1.5340275764465332\n",
      "Epoch  5, CIFAR-10 Batch 2:  Accuracy: 0.5 Cost: 1.4865410327911377\n",
      "Epoch  5, CIFAR-10 Batch 3:  Accuracy: 0.6000000238418579 Cost: 1.208198070526123\n",
      "Epoch  5, CIFAR-10 Batch 4:  Accuracy: 0.5249999761581421 Cost: 1.3695430755615234\n",
      "Epoch  5, CIFAR-10 Batch 5:  Accuracy: 0.550000011920929 Cost: 1.3211605548858643\n",
      "Epoch  6, CIFAR-10 Batch 1:  Accuracy: 0.6499999761581421 Cost: 1.4094879627227783\n",
      "Epoch  6, CIFAR-10 Batch 2:  Accuracy: 0.4749999940395355 Cost: 1.283176302909851\n",
      "Epoch  6, CIFAR-10 Batch 3:  Accuracy: 0.6499999761581421 Cost: 1.1604866981506348\n",
      "Epoch  6, CIFAR-10 Batch 4:  Accuracy: 0.5 Cost: 1.291002869606018\n",
      "Epoch  6, CIFAR-10 Batch 5:  Accuracy: 0.625 Cost: 1.2376279830932617\n",
      "Epoch  7, CIFAR-10 Batch 1:  Accuracy: 0.625 Cost: 1.3069690465927124\n",
      "Epoch  7, CIFAR-10 Batch 2:  Accuracy: 0.550000011920929 Cost: 1.2442831993103027\n",
      "Epoch  7, CIFAR-10 Batch 3:  Accuracy: 0.6000000238418579 Cost: 1.144317388534546\n",
      "Epoch  7, CIFAR-10 Batch 4:  Accuracy: 0.5249999761581421 Cost: 1.22829270362854\n",
      "Epoch  7, CIFAR-10 Batch 5:  Accuracy: 0.7250000238418579 Cost: 1.120867133140564\n",
      "Epoch  8, CIFAR-10 Batch 1:  Accuracy: 0.675000011920929 Cost: 1.2077486515045166\n",
      "Epoch  8, CIFAR-10 Batch 2:  Accuracy: 0.5249999761581421 Cost: 1.2097935676574707\n",
      "Epoch  8, CIFAR-10 Batch 3:  Accuracy: 0.6499999761581421 Cost: 1.105758786201477\n",
      "Epoch  8, CIFAR-10 Batch 4:  Accuracy: 0.5 Cost: 1.1655439138412476\n",
      "Epoch  8, CIFAR-10 Batch 5:  Accuracy: 0.675000011920929 Cost: 1.0727059841156006\n",
      "Epoch  9, CIFAR-10 Batch 1:  Accuracy: 0.699999988079071 Cost: 1.123313307762146\n",
      "Epoch  9, CIFAR-10 Batch 2:  Accuracy: 0.574999988079071 Cost: 1.1462862491607666\n",
      "Epoch  9, CIFAR-10 Batch 3:  Accuracy: 0.7250000238418579 Cost: 1.0347033739089966\n",
      "Epoch  9, CIFAR-10 Batch 4:  Accuracy: 0.675000011920929 Cost: 1.0260553359985352\n",
      "Epoch  9, CIFAR-10 Batch 5:  Accuracy: 0.7250000238418579 Cost: 1.0107663869857788\n",
      "Epoch 10, CIFAR-10 Batch 1:  Accuracy: 0.699999988079071 Cost: 1.0327333211898804\n",
      "Epoch 10, CIFAR-10 Batch 2:  Accuracy: 0.574999988079071 Cost: 1.038683533668518\n",
      "Epoch 10, CIFAR-10 Batch 3:  Accuracy: 0.6499999761581421 Cost: 0.9751046895980835\n",
      "Epoch 10, CIFAR-10 Batch 4:  Accuracy: 0.625 Cost: 0.982627272605896\n",
      "Epoch 10, CIFAR-10 Batch 5:  Accuracy: 0.7749999761581421 Cost: 0.9987102746963501\n",
      "Epoch 11, CIFAR-10 Batch 1:  Accuracy: 0.7250000238418579 Cost: 1.0064144134521484\n",
      "Epoch 11, CIFAR-10 Batch 2:  Accuracy: 0.550000011920929 Cost: 1.0451452732086182\n",
      "Epoch 11, CIFAR-10 Batch 3:  Accuracy: 0.7250000238418579 Cost: 0.8629085421562195\n",
      "Epoch 11, CIFAR-10 Batch 4:  Accuracy: 0.675000011920929 Cost: 0.9131733775138855\n",
      "Epoch 11, CIFAR-10 Batch 5:  Accuracy: 0.75 Cost: 0.8658497929573059\n",
      "Epoch 12, CIFAR-10 Batch 1:  Accuracy: 0.699999988079071 Cost: 0.9135181307792664\n",
      "Epoch 12, CIFAR-10 Batch 2:  Accuracy: 0.625 Cost: 0.9531669616699219\n",
      "Epoch 12, CIFAR-10 Batch 3:  Accuracy: 0.75 Cost: 0.786157488822937\n",
      "Epoch 12, CIFAR-10 Batch 4:  Accuracy: 0.75 Cost: 0.8022788763046265\n",
      "Epoch 12, CIFAR-10 Batch 5:  Accuracy: 0.75 Cost: 0.8487098813056946\n",
      "Epoch 13, CIFAR-10 Batch 1:  Accuracy: 0.7250000238418579 Cost: 0.9134670495986938\n",
      "Epoch 13, CIFAR-10 Batch 2:  Accuracy: 0.6000000238418579 Cost: 0.9275007247924805\n",
      "Epoch 13, CIFAR-10 Batch 3:  Accuracy: 0.8500000238418579 Cost: 0.7023023366928101\n",
      "Epoch 13, CIFAR-10 Batch 4:  Accuracy: 0.75 Cost: 0.7736878395080566\n",
      "Epoch 13, CIFAR-10 Batch 5:  Accuracy: 0.8500000238418579 Cost: 0.7442258596420288\n",
      "Epoch 14, CIFAR-10 Batch 1:  Accuracy: 0.7749999761581421 Cost: 0.7791870832443237\n",
      "Epoch 14, CIFAR-10 Batch 2:  Accuracy: 0.675000011920929 Cost: 0.8803625106811523\n",
      "Epoch 14, CIFAR-10 Batch 3:  Accuracy: 0.824999988079071 Cost: 0.6664819717407227\n",
      "Epoch 14, CIFAR-10 Batch 4:  Accuracy: 0.75 Cost: 0.768875777721405\n",
      "Epoch 14, CIFAR-10 Batch 5:  Accuracy: 0.824999988079071 Cost: 0.7499264478683472\n",
      "Epoch 15, CIFAR-10 Batch 1:  Accuracy: 0.7250000238418579 Cost: 0.8124784231185913\n",
      "Epoch 15, CIFAR-10 Batch 2:  Accuracy: 0.7749999761581421 Cost: 0.7368463277816772\n",
      "Epoch 15, CIFAR-10 Batch 3:  Accuracy: 0.8500000238418579 Cost: 0.6217157244682312\n",
      "Epoch 15, CIFAR-10 Batch 4:  Accuracy: 0.7749999761581421 Cost: 0.6866939067840576\n",
      "Epoch 15, CIFAR-10 Batch 5:  Accuracy: 0.8500000238418579 Cost: 0.6392568349838257\n",
      "Epoch 16, CIFAR-10 Batch 1:  Accuracy: 0.7749999761581421 Cost: 0.7395297288894653\n",
      "Epoch 16, CIFAR-10 Batch 2:  Accuracy: 0.75 Cost: 0.7328742146492004\n",
      "Epoch 16, CIFAR-10 Batch 3:  Accuracy: 0.925000011920929 Cost: 0.594589352607727\n",
      "Epoch 16, CIFAR-10 Batch 4:  Accuracy: 0.824999988079071 Cost: 0.6864885091781616\n",
      "Epoch 16, CIFAR-10 Batch 5:  Accuracy: 0.8500000238418579 Cost: 0.6036036610603333\n",
      "Epoch 17, CIFAR-10 Batch 1:  Accuracy: 0.7749999761581421 Cost: 0.6943082213401794\n",
      "Epoch 17, CIFAR-10 Batch 2:  Accuracy: 0.800000011920929 Cost: 0.6363338828086853\n",
      "Epoch 17, CIFAR-10 Batch 3:  Accuracy: 0.8999999761581421 Cost: 0.5668474435806274\n",
      "Epoch 17, CIFAR-10 Batch 4:  Accuracy: 0.7749999761581421 Cost: 0.639731228351593\n",
      "Epoch 17, CIFAR-10 Batch 5:  Accuracy: 0.875 Cost: 0.5608312487602234\n",
      "Epoch 18, CIFAR-10 Batch 1:  Accuracy: 0.800000011920929 Cost: 0.6732856035232544\n",
      "Epoch 18, CIFAR-10 Batch 2:  Accuracy: 0.7749999761581421 Cost: 0.6750394701957703\n",
      "Epoch 18, CIFAR-10 Batch 3:  Accuracy: 0.8999999761581421 Cost: 0.48085731267929077\n",
      "Epoch 18, CIFAR-10 Batch 4:  Accuracy: 0.824999988079071 Cost: 0.5779873132705688\n",
      "Epoch 18, CIFAR-10 Batch 5:  Accuracy: 0.8500000238418579 Cost: 0.5895264744758606\n",
      "Epoch 19, CIFAR-10 Batch 1:  Accuracy: 0.7749999761581421 Cost: 0.6809490919113159\n",
      "Epoch 19, CIFAR-10 Batch 2:  Accuracy: 0.8500000238418579 Cost: 0.5524259209632874\n",
      "Epoch 19, CIFAR-10 Batch 3:  Accuracy: 0.949999988079071 Cost: 0.47247177362442017\n",
      "Epoch 19, CIFAR-10 Batch 4:  Accuracy: 0.875 Cost: 0.5366623997688293\n",
      "Epoch 19, CIFAR-10 Batch 5:  Accuracy: 0.8999999761581421 Cost: 0.5159879922866821\n",
      "Epoch 20, CIFAR-10 Batch 1:  Accuracy: 0.800000011920929 Cost: 0.6080900430679321\n",
      "Epoch 20, CIFAR-10 Batch 2:  Accuracy: 0.7749999761581421 Cost: 0.5785521864891052\n",
      "Epoch 20, CIFAR-10 Batch 3:  Accuracy: 0.925000011920929 Cost: 0.4910123944282532\n",
      "Epoch 20, CIFAR-10 Batch 4:  Accuracy: 0.875 Cost: 0.49163371324539185\n",
      "Epoch 20, CIFAR-10 Batch 5:  Accuracy: 0.8999999761581421 Cost: 0.461325466632843\n",
      "Epoch 21, CIFAR-10 Batch 1:  Accuracy: 0.800000011920929 Cost: 0.6523032188415527\n",
      "Epoch 21, CIFAR-10 Batch 2:  Accuracy: 0.875 Cost: 0.5167515873908997\n"
     ]
    },
    {
     "name": "stdout",
     "output_type": "stream",
     "text": [
      "Epoch 21, CIFAR-10 Batch 3:  Accuracy: 0.8999999761581421 Cost: 0.4493686556816101\n",
      "Epoch 21, CIFAR-10 Batch 4:  Accuracy: 0.875 Cost: 0.46602898836135864\n",
      "Epoch 21, CIFAR-10 Batch 5:  Accuracy: 0.8999999761581421 Cost: 0.4552497863769531\n",
      "Epoch 22, CIFAR-10 Batch 1:  Accuracy: 0.824999988079071 Cost: 0.5694084763526917\n",
      "Epoch 22, CIFAR-10 Batch 2:  Accuracy: 0.875 Cost: 0.5411065816879272\n",
      "Epoch 22, CIFAR-10 Batch 3:  Accuracy: 0.925000011920929 Cost: 0.44336193799972534\n",
      "Epoch 22, CIFAR-10 Batch 4:  Accuracy: 0.8500000238418579 Cost: 0.4354550838470459\n",
      "Epoch 22, CIFAR-10 Batch 5:  Accuracy: 0.8999999761581421 Cost: 0.4350721836090088\n",
      "Epoch 23, CIFAR-10 Batch 1:  Accuracy: 0.824999988079071 Cost: 0.48891153931617737\n",
      "Epoch 23, CIFAR-10 Batch 2:  Accuracy: 0.875 Cost: 0.5200303196907043\n",
      "Epoch 23, CIFAR-10 Batch 3:  Accuracy: 0.925000011920929 Cost: 0.4472789764404297\n",
      "Epoch 23, CIFAR-10 Batch 4:  Accuracy: 0.925000011920929 Cost: 0.4337252676486969\n",
      "Epoch 23, CIFAR-10 Batch 5:  Accuracy: 0.925000011920929 Cost: 0.4105665683746338\n",
      "Epoch 24, CIFAR-10 Batch 1:  Accuracy: 0.824999988079071 Cost: 0.5158362984657288\n",
      "Epoch 24, CIFAR-10 Batch 2:  Accuracy: 0.875 Cost: 0.4369279742240906\n",
      "Epoch 24, CIFAR-10 Batch 3:  Accuracy: 0.925000011920929 Cost: 0.3610411286354065\n",
      "Epoch 24, CIFAR-10 Batch 4:  Accuracy: 0.949999988079071 Cost: 0.3946567177772522\n",
      "Epoch 24, CIFAR-10 Batch 5:  Accuracy: 0.949999988079071 Cost: 0.33575454354286194\n",
      "Epoch 25, CIFAR-10 Batch 1:  Accuracy: 0.824999988079071 Cost: 0.4553762376308441\n",
      "Epoch 25, CIFAR-10 Batch 2:  Accuracy: 0.925000011920929 Cost: 0.40733689069747925\n",
      "Epoch 25, CIFAR-10 Batch 3:  Accuracy: 0.949999988079071 Cost: 0.33269748091697693\n",
      "Epoch 25, CIFAR-10 Batch 4:  Accuracy: 0.8999999761581421 Cost: 0.3903954327106476\n",
      "Epoch 25, CIFAR-10 Batch 5:  Accuracy: 0.949999988079071 Cost: 0.357215017080307\n"
     ]
    }
   ],
   "source": [
    "\"\"\"\n",
    "DON'T MODIFY ANYTHING IN THIS CELL\n",
    "\"\"\"\n",
    "save_model_path = './image_classification'\n",
    "\n",
    "print('Training...')\n",
    "with tf.Session() as sess:\n",
    "    # Initializing the variables\n",
    "    sess.run(tf.global_variables_initializer())\n",
    "    \n",
    "    # Training cycle\n",
    "    for epoch in range(epochs):\n",
    "        # Loop over all batches\n",
    "        n_batches = 5\n",
    "        for batch_i in range(1, n_batches + 1):\n",
    "            for batch_features, batch_labels in helper.load_preprocess_training_batch(batch_i, batch_size):\n",
    "                train_neural_network(sess, optimizer, keep_probability, batch_features, batch_labels)\n",
    "            print('Epoch {:>2}, CIFAR-10 Batch {}:  '.format(epoch + 1, batch_i), end='')\n",
    "            print_stats(sess, batch_features, batch_labels, cost, accuracy)\n",
    "            \n",
    "    # Save Model\n",
    "    saver = tf.train.Saver()\n",
    "    save_path = saver.save(sess, save_model_path)"
   ]
  },
  {
   "cell_type": "markdown",
   "metadata": {},
   "source": [
    "# Checkpoint\n",
    "The model has been saved to disk.\n",
    "## Test Model\n",
    "Test your model against the test dataset.  This will be your final accuracy. You should have an accuracy greater than 50%. If you don't, keep tweaking the model architecture and parameters."
   ]
  },
  {
   "cell_type": "code",
   "execution_count": 376,
   "metadata": {},
   "outputs": [
    {
     "name": "stdout",
     "output_type": "stream",
     "text": [
      "INFO:tensorflow:Restoring parameters from ./image_classification\n",
      "Testing Accuracy: 0.72490234375\n",
      "\n"
     ]
    },
    {
     "data": {
      "image/png": "[encoded data removed]",
      "text/plain": [
       "<matplotlib.figure.Figure at 0x132121160>"
      ]
     },
     "metadata": {
      "image/png": {
       "height": 319,
       "width": 355
      }
     },
     "output_type": "display_data"
    }
   ],
   "source": [
    "\"\"\"\n",
    "DON'T MODIFY ANYTHING IN THIS CELL\n",
    "\"\"\"\n",
    "%matplotlib inline\n",
    "%config InlineBackend.figure_format = 'retina'\n",
    "\n",
    "import tensorflow as tf\n",
    "import pickle\n",
    "import helper\n",
    "import random\n",
    "\n",
    "# Set batch size if not already set\n",
    "try:\n",
    "    if batch_size:\n",
    "        pass\n",
    "except NameError:\n",
    "    batch_size = 64\n",
    "\n",
    "save_model_path = './image_classification'\n",
    "n_samples = 4\n",
    "top_n_predictions = 3\n",
    "\n",
    "def test_model():\n",
    "    \"\"\"\n",
    "    Test the saved model against the test dataset\n",
    "    \"\"\"\n",
    "\n",
    "    test_features, test_labels = pickle.load(open('preprocess_test.p', mode='rb'))\n",
    "    loaded_graph = tf.Graph()\n",
    "\n",
    "    with tf.Session(graph=loaded_graph) as sess:\n",
    "        # Load model\n",
    "        loader = tf.train.import_meta_graph(save_model_path + '.meta')\n",
    "        loader.restore(sess, save_model_path)\n",
    "\n",
    "        # Get Tensors from loaded model\n",
    "        loaded_x = loaded_graph.get_tensor_by_name('x:0')\n",
    "        loaded_y = loaded_graph.get_tensor_by_name('y:0')\n",
    "        loaded_keep_prob = loaded_graph.get_tensor_by_name('keep_prob:0')\n",
    "        loaded_logits = loaded_graph.get_tensor_by_name('logits:0')\n",
    "        loaded_acc = loaded_graph.get_tensor_by_name('accuracy:0')\n",
    "        \n",
    "        # Get accuracy in batches for memory limitations\n",
    "        test_batch_acc_total = 0\n",
    "        test_batch_count = 0\n",
    "        \n",
    "        for test_feature_batch, test_label_batch in helper.batch_features_labels(test_features, test_labels, batch_size):\n",
    "            test_batch_acc_total += sess.run(\n",
    "                loaded_acc,\n",
    "                feed_dict={loaded_x: test_feature_batch, loaded_y: test_label_batch, loaded_keep_prob: 1.0})\n",
    "            test_batch_count += 1\n",
    "\n",
    "        print('Testing Accuracy: {}\\n'.format(test_batch_acc_total/test_batch_count))\n",
    "\n",
    "        # Print Random Samples\n",
    "        random_test_features, random_test_labels = tuple(zip(*random.sample(list(zip(test_features, test_labels)), n_samples)))\n",
    "        random_test_predictions = sess.run(\n",
    "            tf.nn.top_k(tf.nn.softmax(loaded_logits), top_n_predictions),\n",
    "            feed_dict={loaded_x: random_test_features, loaded_y: random_test_labels, loaded_keep_prob: 1.0})\n",
    "        helper.display_image_predictions(random_test_features, random_test_labels, random_test_predictions)\n",
    "\n",
    "\n",
    "test_model()"
   ]
  },
  {
   "cell_type": "markdown",
   "metadata": {},
   "source": [
    "## Why 50-80% Accuracy?\n",
    "You might be wondering why you can't get an accuracy any higher. First things first, 50% isn't bad for a simple CNN.  Pure guessing would get you 10% accuracy. However, you might notice people are getting scores [well above 80%](http://rodrigob.github.io/are_we_there_yet/build/classification_datasets_results.html#43494641522d3130).  That's because we haven't taught you all there is to know about neural networks. We still need to cover a few more techniques.\n",
    "## Submitting This Project\n",
    "When submitting this project, make sure to run all the cells before saving the notebook.  Save the notebook file as \"dlnd_image_classification.ipynb\" and save it as a HTML file under \"File\" -> \"Download as\".  Include the \"helper.py\" and \"problem_unittests.py\" files in your submission."
   ]
  }
 ],
 "metadata": {
  "kernelspec": {
   "display_name": "Python 3",
   "language": "python",
   "name": "python3"
  },
  "language_info": {
   "codemirror_mode": {
    "name": "ipython",
    "version": 3
   },
   "file_extension": ".py",
   "mimetype": "text/x-python",
   "name": "python",
   "nbconvert_exporter": "python",
   "pygments_lexer": "ipython3",
   "version": "3.6.1"
  }
 },
 "nbformat": 4,
 "nbformat_minor": 1
}
