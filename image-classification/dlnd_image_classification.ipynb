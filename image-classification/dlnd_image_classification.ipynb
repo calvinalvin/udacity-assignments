{
 "cells": [
  {
   "cell_type": "markdown",
   "metadata": {
    "collapsed": true
   },
   "source": [
    "# Image Classification\n",
    "In this project, you'll classify images from the [CIFAR-10 dataset](https://www.cs.toronto.edu/~kriz/cifar.html).  The dataset consists of airplanes, dogs, cats, and other objects. You'll preprocess the images, then train a convolutional neural network on all the samples. The images need to be normalized and the labels need to be one-hot encoded.  You'll get to apply what you learned and build a convolutional, max pooling, dropout, and fully connected layers.  At the end, you'll get to see your neural network's predictions on the sample images.\n",
    "## Get the Data\n",
    "Run the following cell to download the [CIFAR-10 dataset for python](https://www.cs.toronto.edu/~kriz/cifar-10-python.tar.gz)."
   ]
  },
  {
   "cell_type": "code",
   "execution_count": 205,
   "metadata": {},
   "outputs": [
    {
     "name": "stdout",
     "output_type": "stream",
     "text": [
      "All files found!\n"
     ]
    }
   ],
   "source": [
    "\"\"\"\n",
    "DON'T MODIFY ANYTHING IN THIS CELL THAT IS BELOW THIS LINE\n",
    "\"\"\"\n",
    "from urllib.request import urlretrieve\n",
    "from os.path import isfile, isdir\n",
    "from tqdm import tqdm\n",
    "import problem_unittests as tests\n",
    "import tarfile\n",
    "from sklearn.preprocessing import LabelBinarizer\n",
    "label_binarizer = LabelBinarizer()\n",
    "label_binarizer.fit(range(10))\n",
    "\n",
    "cifar10_dataset_folder_path = 'cifar-10-batches-py'\n",
    "\n",
    "# Use Floyd's cifar-10 dataset if present\n",
    "floyd_cifar10_location = '/input/cifar-10/python.tar.gz'\n",
    "if isfile(floyd_cifar10_location):\n",
    "    tar_gz_path = floyd_cifar10_location\n",
    "else:\n",
    "    tar_gz_path = 'cifar-10-python.tar.gz'\n",
    "\n",
    "class DLProgress(tqdm):\n",
    "    last_block = 0\n",
    "\n",
    "    def hook(self, block_num=1, block_size=1, total_size=None):\n",
    "        self.total = total_size\n",
    "        self.update((block_num - self.last_block) * block_size)\n",
    "        self.last_block = block_num\n",
    "\n",
    "if not isfile(tar_gz_path):\n",
    "    with DLProgress(unit='B', unit_scale=True, miniters=1, desc='CIFAR-10 Dataset') as pbar:\n",
    "        urlretrieve(\n",
    "            'https://www.cs.toronto.edu/~kriz/cifar-10-python.tar.gz',\n",
    "            tar_gz_path,\n",
    "            pbar.hook)\n",
    "\n",
    "if not isdir(cifar10_dataset_folder_path):\n",
    "    with tarfile.open(tar_gz_path) as tar:\n",
    "        tar.extractall()\n",
    "        tar.close()\n",
    "\n",
    "\n",
    "tests.test_folder_path(cifar10_dataset_folder_path)"
   ]
  },
  {
   "cell_type": "markdown",
   "metadata": {},
   "source": [
    "## Explore the Data\n",
    "The dataset is broken into batches to prevent your machine from running out of memory.  The CIFAR-10 dataset consists of 5 batches, named `data_batch_1`, `data_batch_2`, etc.. Each batch contains the labels and images that are one of the following:\n",
    "* airplane\n",
    "* automobile\n",
    "* bird\n",
    "* cat\n",
    "* deer\n",
    "* dog\n",
    "* frog\n",
    "* horse\n",
    "* ship\n",
    "* truck\n",
    "\n",
    "Understanding a dataset is part of making predictions on the data.  Play around with the code cell below by changing the `batch_id` and `sample_id`. The `batch_id` is the id for a batch (1-5). The `sample_id` is the id for a image and label pair in the batch.\n",
    "\n",
    "Ask yourself \"What are all possible labels?\", \"What is the range of values for the image data?\", \"Are the labels in order or random?\".  Answers to questions like these will help you preprocess the data and end up with better predictions."
   ]
  },
  {
   "cell_type": "code",
   "execution_count": 142,
   "metadata": {},
   "outputs": [
    {
     "name": "stdout",
     "output_type": "stream",
     "text": [
      "\n",
      "Stats of batch 1:\n",
      "Samples: 10000\n",
      "Label Counts: {0: 1005, 1: 974, 2: 1032, 3: 1016, 4: 999, 5: 937, 6: 1030, 7: 1001, 8: 1025, 9: 981}\n",
      "First 20 Labels: [6, 9, 9, 4, 1, 1, 2, 7, 8, 3, 4, 7, 7, 2, 9, 9, 9, 3, 2, 6]\n",
      "\n",
      "Example of Image 5:\n",
      "Image - Min Value: 0 Max Value: 252\n",
      "Image - Shape: (32, 32, 3)\n",
      "Label - Label Id: 1 Name: automobile\n"
     ]
    },
    {
     "data": {
      "image/png": "[encoded data removed]",
      "text/plain": [
       "<matplotlib.figure.Figure at 0x131d30710>"
      ]
     },
     "metadata": {
      "image/png": {
       "height": 250,
       "width": 253
      }
     },
     "output_type": "display_data"
    }
   ],
   "source": [
    "%matplotlib inline\n",
    "%config InlineBackend.figure_format = 'retina'\n",
    "\n",
    "import helper\n",
    "import numpy as np\n",
    "\n",
    "# Explore the dataset\n",
    "batch_id = 1\n",
    "sample_id = 5\n",
    "helper.display_stats(cifar10_dataset_folder_path, batch_id, sample_id)"
   ]
  },
  {
   "cell_type": "markdown",
   "metadata": {},
   "source": [
    "## Implement Preprocess Functions\n",
    "### Normalize\n",
    "In the cell below, implement the `normalize` function to take in image data, `x`, and return it as a normalized Numpy array. The values should be in the range of 0 to 1, inclusive.  The return object should be the same shape as `x`."
   ]
  },
  {
   "cell_type": "code",
   "execution_count": 206,
   "metadata": {},
   "outputs": [
    {
     "name": "stdout",
     "output_type": "stream",
     "text": [
      "Tests Passed\n"
     ]
    }
   ],
   "source": [
    "def normalize(x):\n",
    "    \"\"\"\n",
    "    Normalize a list of sample image data in the range of 0 to 1\n",
    "    : x: List of image data.  The image shape is (32, 32, 3)\n",
    "    : return: Numpy array of normalize data\n",
    "    \"\"\"\n",
    "    # TODO: Implement Function\n",
    "    return x/255.0\n",
    "\n",
    "\n",
    "\"\"\"\n",
    "DON'T MODIFY ANYTHING IN THIS CELL THAT IS BELOW THIS LINE\n",
    "\"\"\"\n",
    "tests.test_normalize(normalize)"
   ]
  },
  {
   "cell_type": "markdown",
   "metadata": {},
   "source": [
    "### One-hot encode\n",
    "Just like the previous code cell, you'll be implementing a function for preprocessing.  This time, you'll implement the `one_hot_encode` function. The input, `x`, are a list of labels.  Implement the function to return the list of labels as One-Hot encoded Numpy array.  The possible values for labels are 0 to 9. The one-hot encoding function should return the same encoding for each value between each call to `one_hot_encode`.  Make sure to save the map of encodings outside the function.\n",
    "\n",
    "Hint: Don't reinvent the wheel."
   ]
  },
  {
   "cell_type": "code",
   "execution_count": 207,
   "metadata": {},
   "outputs": [
    {
     "name": "stdout",
     "output_type": "stream",
     "text": [
      "Tests Passed\n"
     ]
    }
   ],
   "source": [
    "def one_hot_encode(x):\n",
    "    \"\"\"\n",
    "    One hot encode a list of sample labels. Return a one-hot encoded vector for each label.\n",
    "    : x: List of sample Labels\n",
    "    : return: Numpy array of one-hot encoded labels\n",
    "    \"\"\"\n",
    "    # TODO: Implement Function\n",
    "    return label_binarizer.transform(x)\n",
    "\n",
    "\n",
    "\"\"\"\n",
    "DON'T MODIFY ANYTHING IN THIS CELL THAT IS BELOW THIS LINE\n",
    "\"\"\"\n",
    "tests.test_one_hot_encode(one_hot_encode)"
   ]
  },
  {
   "cell_type": "markdown",
   "metadata": {},
   "source": [
    "### Randomize Data\n",
    "As you saw from exploring the data above, the order of the samples are randomized.  It doesn't hurt to randomize it again, but you don't need to for this dataset."
   ]
  },
  {
   "cell_type": "markdown",
   "metadata": {},
   "source": [
    "## Preprocess all the data and save it\n",
    "Running the code cell below will preprocess all the CIFAR-10 data and save it to file. The code below also uses 10% of the training data for validation."
   ]
  },
  {
   "cell_type": "code",
   "execution_count": 145,
   "metadata": {},
   "outputs": [],
   "source": [
    "\"\"\"\n",
    "DON'T MODIFY ANYTHING IN THIS CELL\n",
    "\"\"\"\n",
    "# Preprocess Training, Validation, and Testing Data\n",
    "helper.preprocess_and_save_data(cifar10_dataset_folder_path, normalize, one_hot_encode)"
   ]
  },
  {
   "cell_type": "markdown",
   "metadata": {},
   "source": [
    "# Check Point\n",
    "This is your first checkpoint.  If you ever decide to come back to this notebook or have to restart the notebook, you can start from here.  The preprocessed data has been saved to disk."
   ]
  },
  {
   "cell_type": "code",
   "execution_count": 146,
   "metadata": {
    "collapsed": true
   },
   "outputs": [],
   "source": [
    "\"\"\"\n",
    "DON'T MODIFY ANYTHING IN THIS CELL\n",
    "\"\"\"\n",
    "import pickle\n",
    "import problem_unittests as tests\n",
    "import helper\n",
    "\n",
    "# Load the Preprocessed Validation data\n",
    "valid_features, valid_labels = pickle.load(open('preprocess_validation.p', mode='rb'))"
   ]
  },
  {
   "cell_type": "markdown",
   "metadata": {},
   "source": [
    "## Build the network\n",
    "For the neural network, you'll build each layer into a function.  Most of the code you've seen has been outside of functions. To test your code more thoroughly, we require that you put each layer in a function.  This allows us to give you better feedback and test for simple mistakes using our unittests before you submit your project.\n",
    "\n",
    ">**Note:** If you're finding it hard to dedicate enough time for this course each week, we've provided a small shortcut to this part of the project. In the next couple of problems, you'll have the option to use classes from the [TensorFlow Layers](https://www.tensorflow.org/api_docs/python/tf/layers) or [TensorFlow Layers (contrib)](https://www.tensorflow.org/api_guides/python/contrib.layers) packages to build each layer, except the layers you build in the \"Convolutional and Max Pooling Layer\" section.  TF Layers is similar to Keras's and TFLearn's abstraction to layers, so it's easy to pickup.\n",
    "\n",
    ">However, if you would like to get the most out of this course, try to solve all the problems _without_ using anything from the TF Layers packages. You **can** still use classes from other packages that happen to have the same name as ones you find in TF Layers! For example, instead of using the TF Layers version of the `conv2d` class, [tf.layers.conv2d](https://www.tensorflow.org/api_docs/python/tf/layers/conv2d), you would want to use the TF Neural Network version of `conv2d`, [tf.nn.conv2d](https://www.tensorflow.org/api_docs/python/tf/nn/conv2d). \n",
    "\n",
    "Let's begin!\n",
    "\n",
    "### Input\n",
    "The neural network needs to read the image data, one-hot encoded labels, and dropout keep probability. Implement the following functions\n",
    "* Implement `neural_net_image_input`\n",
    " * Return a [TF Placeholder](https://www.tensorflow.org/api_docs/python/tf/placeholder)\n",
    " * Set the shape using `image_shape` with batch size set to `None`.\n",
    " * Name the TensorFlow placeholder \"x\" using the TensorFlow `name` parameter in the [TF Placeholder](https://www.tensorflow.org/api_docs/python/tf/placeholder).\n",
    "* Implement `neural_net_label_input`\n",
    " * Return a [TF Placeholder](https://www.tensorflow.org/api_docs/python/tf/placeholder)\n",
    " * Set the shape using `n_classes` with batch size set to `None`.\n",
    " * Name the TensorFlow placeholder \"y\" using the TensorFlow `name` parameter in the [TF Placeholder](https://www.tensorflow.org/api_docs/python/tf/placeholder).\n",
    "* Implement `neural_net_keep_prob_input`\n",
    " * Return a [TF Placeholder](https://www.tensorflow.org/api_docs/python/tf/placeholder) for dropout keep probability.\n",
    " * Name the TensorFlow placeholder \"keep_prob\" using the TensorFlow `name` parameter in the [TF Placeholder](https://www.tensorflow.org/api_docs/python/tf/placeholder).\n",
    "\n",
    "These names will be used at the end of the project to load your saved model.\n",
    "\n",
    "Note: `None` for shapes in TensorFlow allow for a dynamic size."
   ]
  },
  {
   "cell_type": "code",
   "execution_count": 147,
   "metadata": {},
   "outputs": [
    {
     "name": "stdout",
     "output_type": "stream",
     "text": [
      "Image Input Tests Passed.\n",
      "Label Input Tests Passed.\n",
      "Keep Prob Tests Passed.\n"
     ]
    }
   ],
   "source": [
    "import tensorflow as tf\n",
    "\n",
    "def neural_net_image_input(image_shape):\n",
    "    \"\"\"\n",
    "    Return a Tensor for a batch of image input\n",
    "    : image_shape: Shape of the images\n",
    "    : return: Tensor for image input.\n",
    "    \"\"\"\n",
    "    # TODO: Implement Function\n",
    "    return tf.placeholder(tf.float32, shape=(None, image_shape[0], image_shape[1], image_shape[2]), name=\"x\")\n",
    "\n",
    "\n",
    "def neural_net_label_input(n_classes):\n",
    "    \"\"\"\n",
    "    Return a Tensor for a batch of label input\n",
    "    : n_classes: Number of classes\n",
    "    : return: Tensor for label input.\n",
    "    \"\"\"\n",
    "    # TODO: Implement Function\n",
    "    return tf.placeholder(tf.float32, shape=(None, n_classes), name=\"y\")\n",
    "\n",
    "\n",
    "def neural_net_keep_prob_input():\n",
    "    \"\"\"\n",
    "    Return a Tensor for keep probability\n",
    "    : return: Tensor for keep probability.\n",
    "    \"\"\"\n",
    "    # TODO: Implement Function\n",
    "    return tf.placeholder(tf.float32, name=\"keep_prob\")\n",
    "\n",
    "\n",
    "\"\"\"\n",
    "DON'T MODIFY ANYTHING IN THIS CELL THAT IS BELOW THIS LINE\n",
    "\"\"\"\n",
    "tf.reset_default_graph()\n",
    "tests.test_nn_image_inputs(neural_net_image_input)\n",
    "tests.test_nn_label_inputs(neural_net_label_input)\n",
    "tests.test_nn_keep_prob_inputs(neural_net_keep_prob_input)"
   ]
  },
  {
   "cell_type": "markdown",
   "metadata": {},
   "source": [
    "### Convolution and Max Pooling Layer\n",
    "Convolution layers have a lot of success with images. For this code cell, you should implement the function `conv2d_maxpool` to apply convolution then max pooling:\n",
    "* Create the weight and bias using `conv_ksize`, `conv_num_outputs` and the shape of `x_tensor`.\n",
    "* Apply a convolution to `x_tensor` using weight and `conv_strides`.\n",
    " * We recommend you use same padding, but you're welcome to use any padding.\n",
    "* Add bias\n",
    "* Add a nonlinear activation to the convolution.\n",
    "* Apply Max Pooling using `pool_ksize` and `pool_strides`.\n",
    " * We recommend you use same padding, but you're welcome to use any padding.\n",
    "\n",
    "**Note:** You **can't** use [TensorFlow Layers](https://www.tensorflow.org/api_docs/python/tf/layers) or [TensorFlow Layers (contrib)](https://www.tensorflow.org/api_guides/python/contrib.layers) for **this** layer, but you can still use TensorFlow's [Neural Network](https://www.tensorflow.org/api_docs/python/tf/nn) package. You may still use the shortcut option for all the **other** layers."
   ]
  },
  {
   "cell_type": "code",
   "execution_count": 208,
   "metadata": {},
   "outputs": [
    {
     "name": "stdout",
     "output_type": "stream",
     "text": [
      "<tf.Variable 'Variable_1:0' shape=(2, 2, 5, 10) dtype=float32_ref>\n",
      "Tensor(\"Conv2D_1:0\", shape=(?, 8, 8, 10), dtype=float32)\n",
      "Tensor(\"Relu_1:0\", shape=(?, 8, 8, 10), dtype=float32)\n",
      "Tensor(\"MaxPool_1:0\", shape=(?, 4, 4, 10), dtype=float32)\n",
      "Tests Passed\n"
     ]
    }
   ],
   "source": [
    "def conv2d_maxpool(x_tensor, conv_num_outputs, conv_ksize, conv_strides, pool_ksize, pool_strides):\n",
    "    \"\"\"\n",
    "    Apply convolution then max pooling to x_tensor\n",
    "    :param x_tensor: TensorFlow Tensor\n",
    "    :param conv_num_outputs: Number of outputs for the convolutional layer\n",
    "    :param conv_ksize: kernal size 2-D Tuple for the convolutional layer\n",
    "    :param conv_strides: Stride 2-D Tuple for convolution\n",
    "    :param pool_ksize: kernal size 2-D Tuple for pool\n",
    "    :param pool_strides: Stride 2-D Tuple for pool\n",
    "    : return: A tensor that represents convolution and max pooling of x_tensor\n",
    "    \"\"\"\n",
    "    # TODO: Implement Function\n",
    "    weights = tf.Variable(tf.truncated_normal(\n",
    "                        shape=(conv_ksize[0], conv_ksize[1], x_tensor.shape[3].value, conv_num_outputs), \n",
    "                        stddev=0.1,\n",
    "                        mean=0))\n",
    "    \n",
    "    bias = tf.Variable(tf.zeros(conv_num_outputs))\n",
    "\n",
    "    conv_layer = tf.nn.conv2d(x_tensor, \n",
    "                              weights, \n",
    "                              (1, conv_strides[0], conv_strides[1], 1), \n",
    "                              padding='SAME')\n",
    "\n",
    "    # add bias\n",
    "    conv_layer = tf.nn.bias_add(conv_layer, bias)\n",
    "\n",
    "    # Apply activation function\n",
    "    conv_layer = tf.nn.relu(conv_layer)\n",
    "\n",
    "    # Apply Max Pooling\n",
    "    conv_layer = tf.nn.max_pool(conv_layer, \n",
    "                    (1, pool_ksize[0], pool_ksize[1], 1), \n",
    "                    (1, pool_strides[0], pool_strides[1], 1),\n",
    "                    padding='SAME')\n",
    "\n",
    "    return conv_layer \n",
    "\n",
    "\n",
    "\"\"\"\n",
    "DON'T MODIFY ANYTHING IN THIS CELL THAT IS BELOW THIS LINE\n",
    "\"\"\"\n",
    "tests.test_con_pool(conv2d_maxpool)"
   ]
  },
  {
   "cell_type": "markdown",
   "metadata": {},
   "source": [
    "### Flatten Layer\n",
    "Implement the `flatten` function to change the dimension of `x_tensor` from a 4-D tensor to a 2-D tensor.  The output should be the shape (*Batch Size*, *Flattened Image Size*). Shortcut option: you can use classes from the [TensorFlow Layers](https://www.tensorflow.org/api_docs/python/tf/layers) or [TensorFlow Layers (contrib)](https://www.tensorflow.org/api_guides/python/contrib.layers) packages for this layer. For more of a challenge, only use other TensorFlow packages."
   ]
  },
  {
   "cell_type": "code",
   "execution_count": 195,
   "metadata": {},
   "outputs": [
    {
     "name": "stdout",
     "output_type": "stream",
     "text": [
      "Tests Passed\n"
     ]
    }
   ],
   "source": [
    "def flatten(x_tensor):\n",
    "    \"\"\"\n",
    "    Flatten x_tensor to (Batch Size, Flattened Image Size)\n",
    "    : x_tensor: A tensor of size (Batch Size, ...), where ... are the image dimensions.\n",
    "    : return: A tensor of size (Batch Size, Flattened Image Size).\n",
    "    \"\"\"\n",
    "    # TODO: Implement Function\n",
    "    return tf.contrib.layers.flatten(x_tensor)\n",
    "\n",
    "\n",
    "\"\"\"\n",
    "DON'T MODIFY ANYTHING IN THIS CELL THAT IS BELOW THIS LINE\n",
    "\"\"\"\n",
    "tests.test_flatten(flatten)"
   ]
  },
  {
   "cell_type": "markdown",
   "metadata": {},
   "source": [
    "### Fully-Connected Layer\n",
    "Implement the `fully_conn` function to apply a fully connected layer to `x_tensor` with the shape (*Batch Size*, *num_outputs*). Shortcut option: you can use classes from the [TensorFlow Layers](https://www.tensorflow.org/api_docs/python/tf/layers) or [TensorFlow Layers (contrib)](https://www.tensorflow.org/api_guides/python/contrib.layers) packages for this layer. For more of a challenge, only use other TensorFlow packages."
   ]
  },
  {
   "cell_type": "code",
   "execution_count": 212,
   "metadata": {},
   "outputs": [
    {
     "name": "stdout",
     "output_type": "stream",
     "text": [
      "Tests Passed\n"
     ]
    }
   ],
   "source": [
    "def fully_conn(x_tensor, num_outputs):\n",
    "    \"\"\"\n",
    "    Apply a fully connected layer to x_tensor using weight and bias\n",
    "    : x_tensor: A 2-D tensor where the first dimension is batch size.\n",
    "    : num_outputs: The number of output that the new tensor should be.\n",
    "    : return: A 2-D tensor where the second dimension is num_outputs.\n",
    "    \"\"\"\n",
    "    # TODO: Implement Function\n",
    "    return tf.contrib.layers.fully_connected(x_tensor, num_outputs, activation_fn=tf.nn.relu)\n",
    "\n",
    "\n",
    "\"\"\"\n",
    "DON'T MODIFY ANYTHING IN THIS CELL THAT IS BELOW THIS LINE\n",
    "\"\"\"\n",
    "tests.test_fully_conn(fully_conn)"
   ]
  },
  {
   "cell_type": "markdown",
   "metadata": {},
   "source": [
    "### Output Layer\n",
    "Implement the `output` function to apply a fully connected layer to `x_tensor` with the shape (*Batch Size*, *num_outputs*). Shortcut option: you can use classes from the [TensorFlow Layers](https://www.tensorflow.org/api_docs/python/tf/layers) or [TensorFlow Layers (contrib)](https://www.tensorflow.org/api_guides/python/contrib.layers) packages for this layer. For more of a challenge, only use other TensorFlow packages.\n",
    "\n",
    "**Note:** Activation, softmax, or cross entropy should **not** be applied to this."
   ]
  },
  {
   "cell_type": "code",
   "execution_count": 213,
   "metadata": {},
   "outputs": [
    {
     "name": "stdout",
     "output_type": "stream",
     "text": [
      "Tests Passed\n"
     ]
    }
   ],
   "source": [
    "def output(x_tensor, num_outputs):\n",
    "    \"\"\"\n",
    "    Apply a output layer to x_tensor using weight and bias\n",
    "    : x_tensor: A 2-D tensor where the first dimension is batch size.\n",
    "    : num_outputs: The number of output that the new tensor should be.\n",
    "    : return: A 2-D tensor where the second dimension is num_outputs.\n",
    "    \"\"\"\n",
    "    # TODO: Implement Function\n",
    "    return tf.contrib.layers.fully_connected(x_tensor, num_outputs, activation_fn=None)\n",
    "\n",
    "\n",
    "\"\"\"\n",
    "DON'T MODIFY ANYTHING IN THIS CELL THAT IS BELOW THIS LINE\n",
    "\"\"\"\n",
    "tests.test_output(output)"
   ]
  },
  {
   "cell_type": "markdown",
   "metadata": {},
   "source": [
    "### Create Convolutional Model\n",
    "Implement the function `conv_net` to create a convolutional neural network model. The function takes in a batch of images, `x`, and outputs logits.  Use the layers you created above to create this model:\n",
    "\n",
    "* Apply 1, 2, or 3 Convolution and Max Pool layers\n",
    "* Apply a Flatten Layer\n",
    "* Apply 1, 2, or 3 Fully Connected Layers\n",
    "* Apply an Output Layer\n",
    "* Return the output\n",
    "* Apply [TensorFlow's Dropout](https://www.tensorflow.org/api_docs/python/tf/nn/dropout) to one or more layers in the model using `keep_prob`. "
   ]
  },
  {
   "cell_type": "code",
   "execution_count": 346,
   "metadata": {},
   "outputs": [
    {
     "name": "stdout",
     "output_type": "stream",
     "text": [
      "<tf.Variable 'Variable:0' shape=(4, 4, 3, 64) dtype=float32_ref>\n",
      "Tensor(\"Conv2D:0\", shape=(?, 32, 32, 64), dtype=float32)\n",
      "Tensor(\"Relu:0\", shape=(?, 32, 32, 64), dtype=float32)\n",
      "Tensor(\"MaxPool:0\", shape=(?, 16, 16, 64), dtype=float32)\n",
      "<tf.Variable 'Variable_1:0' shape=(4, 4, 64, 128) dtype=float32_ref>\n",
      "Tensor(\"Conv2D_1:0\", shape=(?, 16, 16, 128), dtype=float32)\n",
      "Tensor(\"Relu_1:0\", shape=(?, 16, 16, 128), dtype=float32)\n",
      "Tensor(\"MaxPool_1:0\", shape=(?, 8, 8, 128), dtype=float32)\n",
      "<tf.Variable 'Variable_2:0' shape=(2, 2, 128, 256) dtype=float32_ref>\n",
      "Tensor(\"Conv2D_2:0\", shape=(?, 4, 4, 256), dtype=float32)\n",
      "Tensor(\"Relu_2:0\", shape=(?, 4, 4, 256), dtype=float32)\n",
      "Tensor(\"MaxPool_2:0\", shape=(?, 2, 2, 256), dtype=float32)\n",
      "logits ----\n",
      "Tensor(\"logits:0\", shape=(?, 10), dtype=float32)\n",
      "cost ---\n",
      "Tensor(\"Mean:0\", shape=(), dtype=float32)\n",
      "name: \"Adam\"\n",
      "op: \"NoOp\"\n",
      "input: \"^Adam/update_Variable/ApplyAdam\"\n",
      "input: \"^Adam/update_Variable_1/ApplyAdam\"\n",
      "input: \"^Adam/update_Variable_2/ApplyAdam\"\n",
      "input: \"^Adam/update_fully_connected/weights/ApplyAdam\"\n",
      "input: \"^Adam/update_fully_connected/biases/ApplyAdam\"\n",
      "input: \"^Adam/update_fully_connected_1/weights/ApplyAdam\"\n",
      "input: \"^Adam/update_fully_connected_1/biases/ApplyAdam\"\n",
      "input: \"^Adam/update_fully_connected_2/weights/ApplyAdam\"\n",
      "input: \"^Adam/update_fully_connected_2/biases/ApplyAdam\"\n",
      "input: \"^Adam/Assign\"\n",
      "input: \"^Adam/Assign_1\"\n",
      "\n",
      "<tf.Variable 'Variable_3:0' shape=(4, 4, 3, 64) dtype=float32_ref>\n",
      "Tensor(\"Conv2D_3:0\", shape=(?, 32, 32, 64), dtype=float32)\n",
      "Tensor(\"Relu_3:0\", shape=(?, 32, 32, 64), dtype=float32)\n",
      "Tensor(\"MaxPool_3:0\", shape=(?, 16, 16, 64), dtype=float32)\n",
      "<tf.Variable 'Variable_4:0' shape=(4, 4, 64, 128) dtype=float32_ref>\n",
      "Tensor(\"Conv2D_4:0\", shape=(?, 16, 16, 128), dtype=float32)\n",
      "Tensor(\"Relu_4:0\", shape=(?, 16, 16, 128), dtype=float32)\n",
      "Tensor(\"MaxPool_4:0\", shape=(?, 8, 8, 128), dtype=float32)\n",
      "<tf.Variable 'Variable_5:0' shape=(2, 2, 128, 256) dtype=float32_ref>\n",
      "Tensor(\"Conv2D_5:0\", shape=(?, 4, 4, 256), dtype=float32)\n",
      "Tensor(\"Relu_5:0\", shape=(?, 4, 4, 256), dtype=float32)\n",
      "Tensor(\"MaxPool_5:0\", shape=(?, 2, 2, 256), dtype=float32)\n",
      "Neural Network Built!\n"
     ]
    }
   ],
   "source": [
    "def conv_net(x, keep_prob):\n",
    "    \"\"\"\n",
    "    Create a convolutional neural network model\n",
    "    : x: Placeholder tensor that holds image data.\n",
    "    : keep_prob: Placeholder tensor that hold dropout keep probability.\n",
    "    : return: Tensor that represents logits\n",
    "    \"\"\"\n",
    "    # TODO: Apply 1, 2, or 3 Convolution and Max Pool layers\n",
    "    #    Play around with different number of outputs, kernel size and stride\n",
    "    # Function Definition from Above:\n",
    "    \n",
    "    # conv2d_maxpool(x_tensor, conv_num_outputs, conv_ksize, conv_strides, pool_ksize, pool_strides)\n",
    "    conv = conv2d_maxpool(x, 64, (4,4), (1,1), (2,2), (2,2))\n",
    "    conv = tf.nn.dropout(conv, keep_prob)\n",
    "    conv = conv2d_maxpool(conv, 128, (4,4), (1,1), (2,2), (2,2))\n",
    "    conv = tf.nn.dropout(conv, keep_prob)\n",
    "    conv = conv2d_maxpool(conv, 256, (2,2), (2,2), (2,2), (2,2))\n",
    "    \n",
    "    #print(conv)\n",
    "    # TODO: Apply a Flatten Layer\n",
    "    # Function Definition from Above:\n",
    "    #   flatten(x_tensor)\n",
    "    conv = flatten(conv)\n",
    "    \n",
    "\n",
    "    # TODO: Apply 1, 2, or 3 Fully Connected Layers\n",
    "    #    Play around with different number of outputs\n",
    "    # Function Definition from Above:\n",
    "    #   fully_conn(x_tensor, num_outputs)\n",
    "    fc = fully_conn(conv, 512)\n",
    "    fc = tf.nn.dropout(fc, keep_prob)\n",
    "    fc = fully_conn(fc, 256)\n",
    "\n",
    "    \n",
    "    # TODO: Apply an Output Layer\n",
    "    #    Set this to the number of classes\n",
    "    # Function Definition from Above:\n",
    "    #   output(x_tensor, num_outputs)\n",
    "    result = output(fc, 10)\n",
    "    \n",
    "    # TODO: return output\n",
    "    return result\n",
    "    \n",
    "    \n",
    "\n",
    "\"\"\"\n",
    "DON'T MODIFY ANYTHING IN THIS CELL THAT IS BELOW THIS LINE\n",
    "\"\"\"\n",
    "\n",
    "##############################\n",
    "## Build the Neural Network ##\n",
    "##############################\n",
    "\n",
    "# Remove previous weights, bias, inputs, etc..\n",
    "tf.reset_default_graph()\n",
    "\n",
    "# Inputs\n",
    "x = neural_net_image_input((32, 32, 3))\n",
    "y = neural_net_label_input(10)\n",
    "keep_prob = neural_net_keep_prob_input()\n",
    "\n",
    "# Model\n",
    "logits = conv_net(x, keep_prob)\n",
    "\n",
    "# Name logits Tensor, so that is can be loaded from disk after training\n",
    "logits = tf.identity(logits, name='logits')\n",
    "\n",
    "print('logits ----')\n",
    "print(logits)\n",
    "# Loss and Optimizer\n",
    "cost = tf.reduce_mean(tf.nn.softmax_cross_entropy_with_logits(logits=logits, labels=y))\n",
    "print('cost ---')\n",
    "print(cost)\n",
    "\n",
    "optimizer = tf.train.AdamOptimizer().minimize(cost)\n",
    "print(optimizer)\n",
    "\n",
    "# Accuracy\n",
    "correct_pred = tf.equal(tf.argmax(logits, 1), tf.argmax(y, 1))\n",
    "accuracy = tf.reduce_mean(tf.cast(correct_pred, tf.float32), name='accuracy')\n",
    "\n",
    "tests.test_conv_net(conv_net)"
   ]
  },
  {
   "cell_type": "code",
   "execution_count": 334,
   "metadata": {},
   "outputs": [
    {
     "name": "stdout",
     "output_type": "stream",
     "text": [
      "Tests Passed\n"
     ]
    }
   ],
   "source": [
    "def train_neural_network(session, optimizer, keep_probability, feature_batch, label_batch):\n",
    "    \"\"\"\n",
    "    Optimize the session on a batch of images and labels\n",
    "    : session: Current TensorFlow session\n",
    "    : optimizer: TensorFlow optimizer function\n",
    "    : keep_probability: keep probability\n",
    "    : feature_batch: Batch of Numpy image data\n",
    "    : label_batch: Batch of Numpy label data\n",
    "    \"\"\"\n",
    "    session.run(optimizer, feed_dict={\n",
    "        x: feature_batch,\n",
    "        y: label_batch,\n",
    "        keep_prob: keep_probability})\n",
    "\n",
    "\n",
    "\"\"\"\n",
    "DON'T MODIFY ANYTHING IN THIS CELL THAT IS BELOW THIS LINE\n",
    "\"\"\"\n",
    "tests.test_train_nn(train_neural_network)"
   ]
  },
  {
   "cell_type": "markdown",
   "metadata": {},
   "source": [
    "### Show Stats\n",
    "Implement the function `print_stats` to print loss and validation accuracy.  Use the global variables `valid_features` and `valid_labels` to calculate validation accuracy.  Use a keep probability of `1.0` to calculate the loss and validation accuracy."
   ]
  },
  {
   "cell_type": "code",
   "execution_count": 377,
   "metadata": {},
   "outputs": [],
   "source": [
    "def print_stats(session, feature_batch, label_batch, cost, accuracy):\n",
    "    \"\"\"\n",
    "    Print information about loss and validation accuracy\n",
    "    : session: Current TensorFlow session\n",
    "    : feature_batch: Batch of Numpy image data\n",
    "    : label_batch: Batch of Numpy label data\n",
    "    : cost: TensorFlow cost function\n",
    "    : accuracy: TensorFlow accuracy function\n",
    "    \"\"\"\n",
    "    # TODO: Implement Function\n",
    "    accuracy_stats = sess.run(accuracy, feed_dict={\n",
    "        x: valid_features,\n",
    "        y: valid_labels,\n",
    "        keep_prob: 1.0})\n",
    "    \n",
    "    cost_stats = sess.run(cost, feed_dict={\n",
    "        x: feature_batch,\n",
    "        y: label_batch,\n",
    "        keep_prob: 1.0})\n",
    "    \n",
    "    print(\"Accuracy: {} Cost: {}\".format(accuracy_stats, cost_stats))"
   ]
  },
  {
   "cell_type": "markdown",
   "metadata": {},
   "source": [
    "### Hyperparameters\n",
    "Tune the following parameters:\n",
    "* Set `epochs` to the number of iterations until the network stops learning or start overfitting\n",
    "* Set `batch_size` to the highest number that your machine has memory for.  Most people set them to common sizes of memory:\n",
    " * 64\n",
    " * 128\n",
    " * 256\n",
    " * ...\n",
    "* Set `keep_probability` to the probability of keeping a node using dropout"
   ]
  },
  {
   "cell_type": "code",
   "execution_count": 381,
   "metadata": {
    "collapsed": true
   },
   "outputs": [],
   "source": [
    "# TODO: Tune Parameters\n",
    "epochs = 35\n",
    "batch_size = 256\n",
    "keep_probability = 0.5"
   ]
  },
  {
   "cell_type": "markdown",
   "metadata": {},
   "source": [
    "### Train on a Single CIFAR-10 Batch\n",
    "Instead of training the neural network on all the CIFAR-10 batches of data, let's use a single batch. This should save time while you iterate on the model to get a better accuracy.  Once the final validation accuracy is 50% or greater, run the model on all the data in the next section."
   ]
  },
  {
   "cell_type": "code",
   "execution_count": 379,
   "metadata": {},
   "outputs": [
    {
     "name": "stdout",
     "output_type": "stream",
     "text": [
      "Checking the Training on a Single Batch...\n",
      "Epoch  1, CIFAR-10 Batch 1:  Accuracy: 0.17679999768733978 Cost: 2.2885727882385254\n",
      "Epoch  2, CIFAR-10 Batch 1:  Accuracy: 0.20960000157356262 Cost: 2.1870269775390625\n",
      "Epoch  3, CIFAR-10 Batch 1:  Accuracy: 0.2468000054359436 Cost: 2.1664586067199707\n",
      "Epoch  4, CIFAR-10 Batch 1:  Accuracy: 0.28839999437332153 Cost: 2.0880191326141357\n",
      "Epoch  5, CIFAR-10 Batch 1:  Accuracy: 0.32839998602867126 Cost: 2.044560670852661\n",
      "Epoch  6, CIFAR-10 Batch 1:  Accuracy: 0.3456000089645386 Cost: 1.9936637878417969\n",
      "Epoch  7, CIFAR-10 Batch 1:  Accuracy: 0.352400004863739 Cost: 1.9175869226455688\n",
      "Epoch  8, CIFAR-10 Batch 1:  Accuracy: 0.3691999912261963 Cost: 1.855878472328186\n",
      "Epoch  9, CIFAR-10 Batch 1:  Accuracy: 0.3813999891281128 Cost: 1.7958095073699951\n",
      "Epoch 10, CIFAR-10 Batch 1:  Accuracy: 0.40400001406669617 Cost: 1.798810601234436\n",
      "Epoch 11, CIFAR-10 Batch 1:  Accuracy: 0.4007999897003174 Cost: 1.7321434020996094\n",
      "Epoch 12, CIFAR-10 Batch 1:  Accuracy: 0.3903999924659729 Cost: 1.6918243169784546\n",
      "Epoch 13, CIFAR-10 Batch 1:  Accuracy: 0.4189999997615814 Cost: 1.653766393661499\n",
      "Epoch 14, CIFAR-10 Batch 1:  Accuracy: 0.4399999976158142 Cost: 1.552826166152954\n",
      "Epoch 15, CIFAR-10 Batch 1:  Accuracy: 0.4277999997138977 Cost: 1.5488616228103638\n",
      "Epoch 16, CIFAR-10 Batch 1:  Accuracy: 0.45159998536109924 Cost: 1.4708302021026611\n",
      "Epoch 17, CIFAR-10 Batch 1:  Accuracy: 0.46799999475479126 Cost: 1.385133147239685\n",
      "Epoch 18, CIFAR-10 Batch 1:  Accuracy: 0.4724000096321106 Cost: 1.3157193660736084\n",
      "Epoch 19, CIFAR-10 Batch 1:  Accuracy: 0.4708000123500824 Cost: 1.3227870464324951\n",
      "Epoch 20, CIFAR-10 Batch 1:  Accuracy: 0.4912000000476837 Cost: 1.2371176481246948\n",
      "Epoch 21, CIFAR-10 Batch 1:  Accuracy: 0.4934000074863434 Cost: 1.1871618032455444\n",
      "Epoch 22, CIFAR-10 Batch 1:  Accuracy: 0.4903999865055084 Cost: 1.195209264755249\n",
      "Epoch 23, CIFAR-10 Batch 1:  Accuracy: 0.49079999327659607 Cost: 1.187326192855835\n",
      "Epoch 24, CIFAR-10 Batch 1:  Accuracy: 0.5080000162124634 Cost: 1.0938373804092407\n",
      "Epoch 25, CIFAR-10 Batch 1:  Accuracy: 0.5166000127792358 Cost: 1.0726492404937744\n",
      "Epoch 26, CIFAR-10 Batch 1:  Accuracy: 0.5090000033378601 Cost: 1.0663236379623413\n",
      "Epoch 27, CIFAR-10 Batch 1:  Accuracy: 0.5175999999046326 Cost: 1.0483134984970093\n",
      "Epoch 28, CIFAR-10 Batch 1:  Accuracy: 0.5239999890327454 Cost: 0.9883366823196411\n",
      "Epoch 29, CIFAR-10 Batch 1:  Accuracy: 0.527999997138977 Cost: 0.9548546671867371\n",
      "Epoch 30, CIFAR-10 Batch 1:  Accuracy: 0.531000018119812 Cost: 0.9276970028877258\n"
     ]
    }
   ],
   "source": [
    "\"\"\"\n",
    "DON'T MODIFY ANYTHING IN THIS CELL\n",
    "\"\"\"\n",
    "print('Checking the Training on a Single Batch...')\n",
    "with tf.Session() as sess:\n",
    "    # Initializing the variables\n",
    "    sess.run(tf.global_variables_initializer())\n",
    "    \n",
    "    # Training cycle\n",
    "    for epoch in range(epochs):\n",
    "        batch_i = 1\n",
    "        for batch_features, batch_labels in helper.load_preprocess_training_batch(batch_i, batch_size):\n",
    "            train_neural_network(sess, optimizer, keep_probability, batch_features, batch_labels)\n",
    "        print('Epoch {:>2}, CIFAR-10 Batch {}:  '.format(epoch + 1, batch_i), end='')\n",
    "        print_stats(sess, batch_features, batch_labels, cost, accuracy)"
   ]
  },
  {
   "cell_type": "markdown",
   "metadata": {},
   "source": [
    "### Fully Train the Model\n",
    "Now that you got a good accuracy with a single CIFAR-10 batch, try it with all five batches."
   ]
  },
  {
   "cell_type": "code",
   "execution_count": 382,
   "metadata": {},
   "outputs": [
    {
     "name": "stdout",
     "output_type": "stream",
     "text": [
      "Training...\n",
      "Epoch  1, CIFAR-10 Batch 1:  Accuracy: 0.13979999721050262 Cost: 2.2992682456970215\n",
      "Epoch  1, CIFAR-10 Batch 2:  Accuracy: 0.1542000025510788 Cost: 2.2739503383636475\n",
      "Epoch  1, CIFAR-10 Batch 3:  Accuracy: 0.22579999268054962 Cost: 2.1099839210510254\n",
      "Epoch  1, CIFAR-10 Batch 4:  Accuracy: 0.27219998836517334 Cost: 2.093688726425171\n",
      "Epoch  1, CIFAR-10 Batch 5:  Accuracy: 0.3068000078201294 Cost: 2.0192763805389404\n",
      "Epoch  2, CIFAR-10 Batch 1:  Accuracy: 0.35100001096725464 Cost: 2.0296497344970703\n",
      "Epoch  2, CIFAR-10 Batch 2:  Accuracy: 0.3409999907016754 Cost: 1.9318053722381592\n",
      "Epoch  2, CIFAR-10 Batch 3:  Accuracy: 0.32580000162124634 Cost: 1.8150665760040283\n",
      "Epoch  2, CIFAR-10 Batch 4:  Accuracy: 0.36500000953674316 Cost: 1.739197015762329\n",
      "Epoch  2, CIFAR-10 Batch 5:  Accuracy: 0.3741999864578247 Cost: 1.7564013004302979\n",
      "Epoch  3, CIFAR-10 Batch 1:  Accuracy: 0.3718000054359436 Cost: 1.90389883518219\n",
      "Epoch  3, CIFAR-10 Batch 2:  Accuracy: 0.4032000005245209 Cost: 1.7773921489715576\n",
      "Epoch  3, CIFAR-10 Batch 3:  Accuracy: 0.4052000045776367 Cost: 1.4864364862442017\n",
      "Epoch  3, CIFAR-10 Batch 4:  Accuracy: 0.41339999437332153 Cost: 1.705377221107483\n",
      "Epoch  3, CIFAR-10 Batch 5:  Accuracy: 0.4138000011444092 Cost: 1.6402801275253296\n",
      "Epoch  4, CIFAR-10 Batch 1:  Accuracy: 0.43799999356269836 Cost: 1.7048876285552979\n",
      "Epoch  4, CIFAR-10 Batch 2:  Accuracy: 0.4187999963760376 Cost: 1.6234115362167358\n",
      "Epoch  4, CIFAR-10 Batch 3:  Accuracy: 0.43639999628067017 Cost: 1.3224666118621826\n",
      "Epoch  4, CIFAR-10 Batch 4:  Accuracy: 0.45080000162124634 Cost: 1.5881798267364502\n",
      "Epoch  4, CIFAR-10 Batch 5:  Accuracy: 0.47200000286102295 Cost: 1.4846082925796509\n",
      "Epoch  5, CIFAR-10 Batch 1:  Accuracy: 0.48559999465942383 Cost: 1.56119966506958\n",
      "Epoch  5, CIFAR-10 Batch 2:  Accuracy: 0.4620000123977661 Cost: 1.482590913772583\n",
      "Epoch  5, CIFAR-10 Batch 3:  Accuracy: 0.4668000042438507 Cost: 1.22382652759552\n",
      "Epoch  5, CIFAR-10 Batch 4:  Accuracy: 0.48559999465942383 Cost: 1.4278967380523682\n",
      "Epoch  5, CIFAR-10 Batch 5:  Accuracy: 0.4950000047683716 Cost: 1.3659006357192993\n",
      "Epoch  6, CIFAR-10 Batch 1:  Accuracy: 0.5044000148773193 Cost: 1.4388452768325806\n",
      "Epoch  6, CIFAR-10 Batch 2:  Accuracy: 0.49160000681877136 Cost: 1.3995018005371094\n",
      "Epoch  6, CIFAR-10 Batch 3:  Accuracy: 0.4880000054836273 Cost: 1.1508400440216064\n",
      "Epoch  6, CIFAR-10 Batch 4:  Accuracy: 0.5221999883651733 Cost: 1.3779170513153076\n",
      "Epoch  6, CIFAR-10 Batch 5:  Accuracy: 0.5371999740600586 Cost: 1.2912133932113647\n",
      "Epoch  7, CIFAR-10 Batch 1:  Accuracy: 0.5419999957084656 Cost: 1.33383309841156\n",
      "Epoch  7, CIFAR-10 Batch 2:  Accuracy: 0.5321999788284302 Cost: 1.2521206140518188\n",
      "Epoch  7, CIFAR-10 Batch 3:  Accuracy: 0.5231999754905701 Cost: 1.1882684230804443\n",
      "Epoch  7, CIFAR-10 Batch 4:  Accuracy: 0.5436000227928162 Cost: 1.214691400527954\n",
      "Epoch  7, CIFAR-10 Batch 5:  Accuracy: 0.5422000288963318 Cost: 1.1874698400497437\n",
      "Epoch  8, CIFAR-10 Batch 1:  Accuracy: 0.5663999915122986 Cost: 1.2626276016235352\n",
      "Epoch  8, CIFAR-10 Batch 2:  Accuracy: 0.5461999773979187 Cost: 1.2314523458480835\n",
      "Epoch  8, CIFAR-10 Batch 3:  Accuracy: 0.5436000227928162 Cost: 1.1099063158035278\n",
      "Epoch  8, CIFAR-10 Batch 4:  Accuracy: 0.5698000192642212 Cost: 1.0941355228424072\n",
      "Epoch  8, CIFAR-10 Batch 5:  Accuracy: 0.5738000273704529 Cost: 1.118552803993225\n",
      "Epoch  9, CIFAR-10 Batch 1:  Accuracy: 0.5831999778747559 Cost: 1.1055018901824951\n",
      "Epoch  9, CIFAR-10 Batch 2:  Accuracy: 0.5735999941825867 Cost: 1.1555767059326172\n",
      "Epoch  9, CIFAR-10 Batch 3:  Accuracy: 0.5601999759674072 Cost: 1.020976185798645\n",
      "Epoch  9, CIFAR-10 Batch 4:  Accuracy: 0.5794000029563904 Cost: 1.0317399501800537\n",
      "Epoch  9, CIFAR-10 Batch 5:  Accuracy: 0.5952000021934509 Cost: 1.0266458988189697\n",
      "Epoch 10, CIFAR-10 Batch 1:  Accuracy: 0.5956000089645386 Cost: 1.0647203922271729\n",
      "Epoch 10, CIFAR-10 Batch 2:  Accuracy: 0.5914000272750854 Cost: 1.065955400466919\n",
      "Epoch 10, CIFAR-10 Batch 3:  Accuracy: 0.5968000292778015 Cost: 0.9278867840766907\n",
      "Epoch 10, CIFAR-10 Batch 4:  Accuracy: 0.6118000149726868 Cost: 0.9842947125434875\n",
      "Epoch 10, CIFAR-10 Batch 5:  Accuracy: 0.5838000178337097 Cost: 1.0217914581298828\n",
      "Epoch 11, CIFAR-10 Batch 1:  Accuracy: 0.603600025177002 Cost: 0.9861639142036438\n",
      "Epoch 11, CIFAR-10 Batch 2:  Accuracy: 0.6055999994277954 Cost: 0.9986597895622253\n",
      "Epoch 11, CIFAR-10 Batch 3:  Accuracy: 0.6047999858856201 Cost: 0.907130241394043\n",
      "Epoch 11, CIFAR-10 Batch 4:  Accuracy: 0.5952000021934509 Cost: 0.8771808743476868\n",
      "Epoch 11, CIFAR-10 Batch 5:  Accuracy: 0.626800000667572 Cost: 0.8941959142684937\n",
      "Epoch 12, CIFAR-10 Batch 1:  Accuracy: 0.6273999810218811 Cost: 0.9881622195243835\n",
      "Epoch 12, CIFAR-10 Batch 2:  Accuracy: 0.631600022315979 Cost: 0.9410400390625\n",
      "Epoch 12, CIFAR-10 Batch 3:  Accuracy: 0.6197999715805054 Cost: 0.8091181516647339\n",
      "Epoch 12, CIFAR-10 Batch 4:  Accuracy: 0.6233999729156494 Cost: 0.8655151128768921\n",
      "Epoch 12, CIFAR-10 Batch 5:  Accuracy: 0.63919997215271 Cost: 0.8261212110519409\n",
      "Epoch 13, CIFAR-10 Batch 1:  Accuracy: 0.6137999892234802 Cost: 0.9365466833114624\n",
      "Epoch 13, CIFAR-10 Batch 2:  Accuracy: 0.6381999850273132 Cost: 0.8601457476615906\n",
      "Epoch 13, CIFAR-10 Batch 3:  Accuracy: 0.6362000107765198 Cost: 0.7813343405723572\n",
      "Epoch 13, CIFAR-10 Batch 4:  Accuracy: 0.6449999809265137 Cost: 0.798884391784668\n",
      "Epoch 13, CIFAR-10 Batch 5:  Accuracy: 0.6248000264167786 Cost: 0.8598672151565552\n",
      "Epoch 14, CIFAR-10 Batch 1:  Accuracy: 0.6442000269889832 Cost: 0.8635947108268738\n",
      "Epoch 14, CIFAR-10 Batch 2:  Accuracy: 0.6480000019073486 Cost: 0.8175930976867676\n",
      "Epoch 14, CIFAR-10 Batch 3:  Accuracy: 0.642799973487854 Cost: 0.7277554273605347\n",
      "Epoch 14, CIFAR-10 Batch 4:  Accuracy: 0.644599974155426 Cost: 0.7413446307182312\n",
      "Epoch 14, CIFAR-10 Batch 5:  Accuracy: 0.6255999803543091 Cost: 0.8309817314147949\n",
      "Epoch 15, CIFAR-10 Batch 1:  Accuracy: 0.6535999774932861 Cost: 0.8575971722602844\n",
      "Epoch 15, CIFAR-10 Batch 2:  Accuracy: 0.6607999801635742 Cost: 0.7850210666656494\n",
      "Epoch 15, CIFAR-10 Batch 3:  Accuracy: 0.6639999747276306 Cost: 0.68101966381073\n",
      "Epoch 15, CIFAR-10 Batch 4:  Accuracy: 0.6600000262260437 Cost: 0.7034559845924377\n",
      "Epoch 15, CIFAR-10 Batch 5:  Accuracy: 0.6517999768257141 Cost: 0.775336742401123\n",
      "Epoch 16, CIFAR-10 Batch 1:  Accuracy: 0.6571999788284302 Cost: 0.7795940637588501\n",
      "Epoch 16, CIFAR-10 Batch 2:  Accuracy: 0.6606000065803528 Cost: 0.7304694056510925\n",
      "Epoch 16, CIFAR-10 Batch 3:  Accuracy: 0.6722000241279602 Cost: 0.6740349531173706\n",
      "Epoch 16, CIFAR-10 Batch 4:  Accuracy: 0.659600019454956 Cost: 0.6214765906333923\n",
      "Epoch 16, CIFAR-10 Batch 5:  Accuracy: 0.6638000011444092 Cost: 0.7009298205375671\n",
      "Epoch 17, CIFAR-10 Batch 1:  Accuracy: 0.6669999957084656 Cost: 0.7637234926223755\n",
      "Epoch 17, CIFAR-10 Batch 2:  Accuracy: 0.673799991607666 Cost: 0.6923647522926331\n",
      "Epoch 17, CIFAR-10 Batch 3:  Accuracy: 0.6827999949455261 Cost: 0.6098634600639343\n",
      "Epoch 17, CIFAR-10 Batch 4:  Accuracy: 0.6710000038146973 Cost: 0.614429235458374\n",
      "Epoch 17, CIFAR-10 Batch 5:  Accuracy: 0.6783999800682068 Cost: 0.6338354349136353\n",
      "Epoch 18, CIFAR-10 Batch 1:  Accuracy: 0.6868000030517578 Cost: 0.7351053357124329\n",
      "Epoch 18, CIFAR-10 Batch 2:  Accuracy: 0.6765999794006348 Cost: 0.647590160369873\n",
      "Epoch 18, CIFAR-10 Batch 3:  Accuracy: 0.6890000104904175 Cost: 0.5670236349105835\n",
      "Epoch 18, CIFAR-10 Batch 4:  Accuracy: 0.6890000104904175 Cost: 0.543615996837616\n",
      "Epoch 18, CIFAR-10 Batch 5:  Accuracy: 0.6791999936103821 Cost: 0.6311658620834351\n",
      "Epoch 19, CIFAR-10 Batch 1:  Accuracy: 0.6827999949455261 Cost: 0.6894375085830688\n",
      "Epoch 19, CIFAR-10 Batch 2:  Accuracy: 0.6908000111579895 Cost: 0.5965213775634766\n",
      "Epoch 19, CIFAR-10 Batch 3:  Accuracy: 0.6815999746322632 Cost: 0.5565528869628906\n",
      "Epoch 19, CIFAR-10 Batch 4:  Accuracy: 0.6909999847412109 Cost: 0.5918616652488708\n",
      "Epoch 19, CIFAR-10 Batch 5:  Accuracy: 0.7016000151634216 Cost: 0.570088267326355\n",
      "Epoch 20, CIFAR-10 Batch 1:  Accuracy: 0.6904000043869019 Cost: 0.6593934893608093\n",
      "Epoch 20, CIFAR-10 Batch 2:  Accuracy: 0.6917999982833862 Cost: 0.5490280389785767\n",
      "Epoch 20, CIFAR-10 Batch 3:  Accuracy: 0.696399986743927 Cost: 0.5634511709213257\n",
      "Epoch 20, CIFAR-10 Batch 4:  Accuracy: 0.6988000273704529 Cost: 0.5438599586486816\n"
     ]
    },
    {
     "name": "stdout",
     "output_type": "stream",
     "text": [
      "Epoch 20, CIFAR-10 Batch 5:  Accuracy: 0.7031999826431274 Cost: 0.5586773753166199\n",
      "Epoch 21, CIFAR-10 Batch 1:  Accuracy: 0.698199987411499 Cost: 0.5685576796531677\n",
      "Epoch 21, CIFAR-10 Batch 2:  Accuracy: 0.7009999752044678 Cost: 0.542124330997467\n",
      "Epoch 21, CIFAR-10 Batch 3:  Accuracy: 0.7021999955177307 Cost: 0.4939376413822174\n",
      "Epoch 21, CIFAR-10 Batch 4:  Accuracy: 0.7074000239372253 Cost: 0.5014057159423828\n",
      "Epoch 21, CIFAR-10 Batch 5:  Accuracy: 0.7024000287055969 Cost: 0.47356128692626953\n",
      "Epoch 22, CIFAR-10 Batch 1:  Accuracy: 0.6930000185966492 Cost: 0.5548492074012756\n",
      "Epoch 22, CIFAR-10 Batch 2:  Accuracy: 0.7080000042915344 Cost: 0.5403503179550171\n",
      "Epoch 22, CIFAR-10 Batch 3:  Accuracy: 0.699999988079071 Cost: 0.476937860250473\n",
      "Epoch 22, CIFAR-10 Batch 4:  Accuracy: 0.7149999737739563 Cost: 0.4251468777656555\n",
      "Epoch 22, CIFAR-10 Batch 5:  Accuracy: 0.7160000205039978 Cost: 0.46445512771606445\n",
      "Epoch 23, CIFAR-10 Batch 1:  Accuracy: 0.7106000185012817 Cost: 0.5822309851646423\n",
      "Epoch 23, CIFAR-10 Batch 2:  Accuracy: 0.7179999947547913 Cost: 0.4693581461906433\n",
      "Epoch 23, CIFAR-10 Batch 3:  Accuracy: 0.7063999772071838 Cost: 0.47793102264404297\n",
      "Epoch 23, CIFAR-10 Batch 4:  Accuracy: 0.7111999988555908 Cost: 0.42836904525756836\n",
      "Epoch 23, CIFAR-10 Batch 5:  Accuracy: 0.7128000259399414 Cost: 0.4303271174430847\n",
      "Epoch 24, CIFAR-10 Batch 1:  Accuracy: 0.7250000238418579 Cost: 0.5711595416069031\n",
      "Epoch 24, CIFAR-10 Batch 2:  Accuracy: 0.7148000001907349 Cost: 0.44857603311538696\n",
      "Epoch 24, CIFAR-10 Batch 3:  Accuracy: 0.7139999866485596 Cost: 0.40185362100601196\n",
      "Epoch 24, CIFAR-10 Batch 4:  Accuracy: 0.7160000205039978 Cost: 0.4225865304470062\n",
      "Epoch 24, CIFAR-10 Batch 5:  Accuracy: 0.7062000036239624 Cost: 0.3954545259475708\n",
      "Epoch 25, CIFAR-10 Batch 1:  Accuracy: 0.7250000238418579 Cost: 0.5324560403823853\n",
      "Epoch 25, CIFAR-10 Batch 2:  Accuracy: 0.7131999731063843 Cost: 0.4186600148677826\n",
      "Epoch 25, CIFAR-10 Batch 3:  Accuracy: 0.7120000123977661 Cost: 0.40711599588394165\n",
      "Epoch 25, CIFAR-10 Batch 4:  Accuracy: 0.7202000021934509 Cost: 0.3461029529571533\n",
      "Epoch 25, CIFAR-10 Batch 5:  Accuracy: 0.7247999906539917 Cost: 0.387742817401886\n",
      "Epoch 26, CIFAR-10 Batch 1:  Accuracy: 0.7188000082969666 Cost: 0.48947635293006897\n",
      "Epoch 26, CIFAR-10 Batch 2:  Accuracy: 0.725600004196167 Cost: 0.39131811261177063\n",
      "Epoch 26, CIFAR-10 Batch 3:  Accuracy: 0.7131999731063843 Cost: 0.41609516739845276\n",
      "Epoch 26, CIFAR-10 Batch 4:  Accuracy: 0.7134000062942505 Cost: 0.37471285462379456\n",
      "Epoch 26, CIFAR-10 Batch 5:  Accuracy: 0.7318000197410583 Cost: 0.3302178978919983\n",
      "Epoch 27, CIFAR-10 Batch 1:  Accuracy: 0.7196000218391418 Cost: 0.49700355529785156\n",
      "Epoch 27, CIFAR-10 Batch 2:  Accuracy: 0.7246000170707703 Cost: 0.41517338156700134\n",
      "Epoch 27, CIFAR-10 Batch 3:  Accuracy: 0.7261999845504761 Cost: 0.3716108202934265\n",
      "Epoch 27, CIFAR-10 Batch 4:  Accuracy: 0.7161999940872192 Cost: 0.32122573256492615\n",
      "Epoch 27, CIFAR-10 Batch 5:  Accuracy: 0.7265999913215637 Cost: 0.32756078243255615\n",
      "Epoch 28, CIFAR-10 Batch 1:  Accuracy: 0.7351999878883362 Cost: 0.4510681629180908\n",
      "Epoch 28, CIFAR-10 Batch 2:  Accuracy: 0.7250000238418579 Cost: 0.36134952306747437\n",
      "Epoch 28, CIFAR-10 Batch 3:  Accuracy: 0.7261999845504761 Cost: 0.362840473651886\n",
      "Epoch 28, CIFAR-10 Batch 4:  Accuracy: 0.7111999988555908 Cost: 0.39929819107055664\n",
      "Epoch 28, CIFAR-10 Batch 5:  Accuracy: 0.7315999865531921 Cost: 0.3195568323135376\n",
      "Epoch 29, CIFAR-10 Batch 1:  Accuracy: 0.7211999893188477 Cost: 0.47351112961769104\n",
      "Epoch 29, CIFAR-10 Batch 2:  Accuracy: 0.73580002784729 Cost: 0.4031291604042053\n",
      "Epoch 29, CIFAR-10 Batch 3:  Accuracy: 0.7293999791145325 Cost: 0.33989936113357544\n",
      "Epoch 29, CIFAR-10 Batch 4:  Accuracy: 0.727400004863739 Cost: 0.336496502161026\n",
      "Epoch 29, CIFAR-10 Batch 5:  Accuracy: 0.7369999885559082 Cost: 0.3041296601295471\n",
      "Epoch 30, CIFAR-10 Batch 1:  Accuracy: 0.7296000123023987 Cost: 0.41570085287094116\n",
      "Epoch 30, CIFAR-10 Batch 2:  Accuracy: 0.729200005531311 Cost: 0.3700891137123108\n",
      "Epoch 30, CIFAR-10 Batch 3:  Accuracy: 0.7368000149726868 Cost: 0.3577011525630951\n",
      "Epoch 30, CIFAR-10 Batch 4:  Accuracy: 0.7250000238418579 Cost: 0.30567410588264465\n",
      "Epoch 30, CIFAR-10 Batch 5:  Accuracy: 0.743399977684021 Cost: 0.2665807604789734\n",
      "Epoch 31, CIFAR-10 Batch 1:  Accuracy: 0.7300000190734863 Cost: 0.3890317380428314\n",
      "Epoch 31, CIFAR-10 Batch 2:  Accuracy: 0.7311999797821045 Cost: 0.3778076171875\n",
      "Epoch 31, CIFAR-10 Batch 3:  Accuracy: 0.7368000149726868 Cost: 0.2930484414100647\n",
      "Epoch 31, CIFAR-10 Batch 4:  Accuracy: 0.7351999878883362 Cost: 0.29485630989074707\n",
      "Epoch 31, CIFAR-10 Batch 5:  Accuracy: 0.7472000122070312 Cost: 0.27272194623947144\n",
      "Epoch 32, CIFAR-10 Batch 1:  Accuracy: 0.7445999979972839 Cost: 0.38459834456443787\n",
      "Epoch 32, CIFAR-10 Batch 2:  Accuracy: 0.7342000007629395 Cost: 0.35756534337997437\n",
      "Epoch 32, CIFAR-10 Batch 3:  Accuracy: 0.7346000075340271 Cost: 0.34176650643348694\n",
      "Epoch 32, CIFAR-10 Batch 4:  Accuracy: 0.730400025844574 Cost: 0.28711313009262085\n",
      "Epoch 32, CIFAR-10 Batch 5:  Accuracy: 0.748199999332428 Cost: 0.2336440086364746\n",
      "Epoch 33, CIFAR-10 Batch 1:  Accuracy: 0.734000027179718 Cost: 0.33640316128730774\n",
      "Epoch 33, CIFAR-10 Batch 2:  Accuracy: 0.751800000667572 Cost: 0.29143357276916504\n",
      "Epoch 33, CIFAR-10 Batch 3:  Accuracy: 0.7455999851226807 Cost: 0.31315284967422485\n",
      "Epoch 33, CIFAR-10 Batch 4:  Accuracy: 0.7436000108718872 Cost: 0.28223851323127747\n",
      "Epoch 33, CIFAR-10 Batch 5:  Accuracy: 0.7333999872207642 Cost: 0.25811320543289185\n",
      "Epoch 34, CIFAR-10 Batch 1:  Accuracy: 0.7376000285148621 Cost: 0.2993655204772949\n",
      "Epoch 34, CIFAR-10 Batch 2:  Accuracy: 0.7459999918937683 Cost: 0.3290720582008362\n",
      "Epoch 34, CIFAR-10 Batch 3:  Accuracy: 0.7459999918937683 Cost: 0.29799336194992065\n",
      "Epoch 34, CIFAR-10 Batch 4:  Accuracy: 0.7409999966621399 Cost: 0.2691035866737366\n",
      "Epoch 34, CIFAR-10 Batch 5:  Accuracy: 0.7387999892234802 Cost: 0.24750569462776184\n",
      "Epoch 35, CIFAR-10 Batch 1:  Accuracy: 0.7509999871253967 Cost: 0.31250232458114624\n",
      "Epoch 35, CIFAR-10 Batch 2:  Accuracy: 0.746999979019165 Cost: 0.26521211862564087\n",
      "Epoch 35, CIFAR-10 Batch 3:  Accuracy: 0.7444000244140625 Cost: 0.30579718947410583\n",
      "Epoch 35, CIFAR-10 Batch 4:  Accuracy: 0.7422000169754028 Cost: 0.265186607837677\n",
      "Epoch 35, CIFAR-10 Batch 5:  Accuracy: 0.7494000196456909 Cost: 0.1947876513004303\n"
     ]
    }
   ],
   "source": [
    "\"\"\"\n",
    "DON'T MODIFY ANYTHING IN THIS CELL\n",
    "\"\"\"\n",
    "save_model_path = './image_classification'\n",
    "\n",
    "print('Training...')\n",
    "with tf.Session() as sess:\n",
    "    # Initializing the variables\n",
    "    sess.run(tf.global_variables_initializer())\n",
    "    \n",
    "    # Training cycle\n",
    "    for epoch in range(epochs):\n",
    "        # Loop over all batches\n",
    "        n_batches = 5\n",
    "        for batch_i in range(1, n_batches + 1):\n",
    "            for batch_features, batch_labels in helper.load_preprocess_training_batch(batch_i, batch_size):\n",
    "                train_neural_network(sess, optimizer, keep_probability, batch_features, batch_labels)\n",
    "            print('Epoch {:>2}, CIFAR-10 Batch {}:  '.format(epoch + 1, batch_i), end='')\n",
    "            print_stats(sess, batch_features, batch_labels, cost, accuracy)\n",
    "            \n",
    "    # Save Model\n",
    "    saver = tf.train.Saver()\n",
    "    save_path = saver.save(sess, save_model_path)"
   ]
  },
  {
   "cell_type": "markdown",
   "metadata": {},
   "source": [
    "# Checkpoint\n",
    "The model has been saved to disk.\n",
    "## Test Model\n",
    "Test your model against the test dataset.  This will be your final accuracy. You should have an accuracy greater than 50%. If you don't, keep tweaking the model architecture and parameters."
   ]
  },
  {
   "cell_type": "code",
   "execution_count": 383,
   "metadata": {},
   "outputs": [
    {
     "name": "stdout",
     "output_type": "stream",
     "text": [
      "INFO:tensorflow:Restoring parameters from ./image_classification\n",
      "Testing Accuracy: 0.74150390625\n",
      "\n"
     ]
    },
    {
     "data": {
      "image/png": "[encoded data removed]",
      "text/plain": [
       "<matplotlib.figure.Figure at 0x132066240>"
      ]
     },
     "metadata": {
      "image/png": {
       "height": 319,
       "width": 355
      }
     },
     "output_type": "display_data"
    }
   ],
   "source": [
    "\"\"\"\n",
    "DON'T MODIFY ANYTHING IN THIS CELL\n",
    "\"\"\"\n",
    "%matplotlib inline\n",
    "%config InlineBackend.figure_format = 'retina'\n",
    "\n",
    "import tensorflow as tf\n",
    "import pickle\n",
    "import helper\n",
    "import random\n",
    "\n",
    "# Set batch size if not already set\n",
    "try:\n",
    "    if batch_size:\n",
    "        pass\n",
    "except NameError:\n",
    "    batch_size = 64\n",
    "\n",
    "save_model_path = './image_classification'\n",
    "n_samples = 4\n",
    "top_n_predictions = 3\n",
    "\n",
    "def test_model():\n",
    "    \"\"\"\n",
    "    Test the saved model against the test dataset\n",
    "    \"\"\"\n",
    "\n",
    "    test_features, test_labels = pickle.load(open('preprocess_test.p', mode='rb'))\n",
    "    loaded_graph = tf.Graph()\n",
    "\n",
    "    with tf.Session(graph=loaded_graph) as sess:\n",
    "        # Load model\n",
    "        loader = tf.train.import_meta_graph(save_model_path + '.meta')\n",
    "        loader.restore(sess, save_model_path)\n",
    "\n",
    "        # Get Tensors from loaded model\n",
    "        loaded_x = loaded_graph.get_tensor_by_name('x:0')\n",
    "        loaded_y = loaded_graph.get_tensor_by_name('y:0')\n",
    "        loaded_keep_prob = loaded_graph.get_tensor_by_name('keep_prob:0')\n",
    "        loaded_logits = loaded_graph.get_tensor_by_name('logits:0')\n",
    "        loaded_acc = loaded_graph.get_tensor_by_name('accuracy:0')\n",
    "        \n",
    "        # Get accuracy in batches for memory limitations\n",
    "        test_batch_acc_total = 0\n",
    "        test_batch_count = 0\n",
    "        \n",
    "        for test_feature_batch, test_label_batch in helper.batch_features_labels(test_features, test_labels, batch_size):\n",
    "            test_batch_acc_total += sess.run(\n",
    "                loaded_acc,\n",
    "                feed_dict={loaded_x: test_feature_batch, loaded_y: test_label_batch, loaded_keep_prob: 1.0})\n",
    "            test_batch_count += 1\n",
    "\n",
    "        print('Testing Accuracy: {}\\n'.format(test_batch_acc_total/test_batch_count))\n",
    "\n",
    "        # Print Random Samples\n",
    "        random_test_features, random_test_labels = tuple(zip(*random.sample(list(zip(test_features, test_labels)), n_samples)))\n",
    "        random_test_predictions = sess.run(\n",
    "            tf.nn.top_k(tf.nn.softmax(loaded_logits), top_n_predictions),\n",
    "            feed_dict={loaded_x: random_test_features, loaded_y: random_test_labels, loaded_keep_prob: 1.0})\n",
    "        helper.display_image_predictions(random_test_features, random_test_labels, random_test_predictions)\n",
    "\n",
    "\n",
    "test_model()"
   ]
  },
  {
   "cell_type": "markdown",
   "metadata": {},
   "source": [
    "## Why 50-80% Accuracy?\n",
    "You might be wondering why you can't get an accuracy any higher. First things first, 50% isn't bad for a simple CNN.  Pure guessing would get you 10% accuracy. However, you might notice people are getting scores [well above 80%](http://rodrigob.github.io/are_we_there_yet/build/classification_datasets_results.html#43494641522d3130).  That's because we haven't taught you all there is to know about neural networks. We still need to cover a few more techniques.\n",
    "## Submitting This Project\n",
    "When submitting this project, make sure to run all the cells before saving the notebook.  Save the notebook file as \"dlnd_image_classification.ipynb\" and save it as a HTML file under \"File\" -> \"Download as\".  Include the \"helper.py\" and \"problem_unittests.py\" files in your submission."
   ]
  }
 ],
 "metadata": {
  "kernelspec": {
   "display_name": "Python 3",
   "language": "python",
   "name": "python3"
  },
  "language_info": {
   "codemirror_mode": {
    "name": "ipython",
    "version": 3
   },
   "file_extension": ".py",
   "mimetype": "text/x-python",
   "name": "python",
   "nbconvert_exporter": "python",
   "pygments_lexer": "ipython3",
   "version": "3.6.1"
  }
 },
 "nbformat": 4,
 "nbformat_minor": 1
}
